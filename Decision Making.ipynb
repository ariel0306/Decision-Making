{
  "nbformat": 4,
  "nbformat_minor": 0,
  "metadata": {
    "kernelspec": {
      "display_name": "Python 3",
      "language": "python",
      "name": "python3"
    },
    "language_info": {
      "codemirror_mode": {
        "name": "ipython",
        "version": 3
      },
      "file_extension": ".py",
      "mimetype": "text/x-python",
      "name": "python",
      "nbconvert_exporter": "python",
      "pygments_lexer": "ipython3",
      "version": "3.8.5"
    },
    "colab": {
      "name": "BevZ-outcome.ipynb",
      "provenance": [],
      "collapsed_sections": []
    }
  },
  "cells": [
    {
      "cell_type": "code",
      "metadata": {
        "id": "GBxP7m_DiY4G"
      },
      "source": [
        "import numpy as np \n",
        "import pandas as pd\n",
        "from datetime import timedelta\n",
        "import datetime as dt\n",
        "import matplotlib.pyplot as plt\n",
        "import warnings\n",
        "from sklearn.model_selection import cross_val_score, train_test_split\n",
        "warnings.filterwarnings(\"ignore\")"
      ],
      "execution_count": null,
      "outputs": []
    },
    {
      "cell_type": "code",
      "metadata": {
        "id": "Lh6lkENfiY4M"
      },
      "source": [
        "data = pd.read_csv('BevZTestHistory.csv')"
      ],
      "execution_count": null,
      "outputs": []
    },
    {
      "cell_type": "code",
      "metadata": {
        "id": "Od3nzs3ViY4N",
        "outputId": "5c551ca0-cafc-4c0a-a0c2-fd4dda7fb367"
      },
      "source": [
        "data.shape"
      ],
      "execution_count": null,
      "outputs": [
        {
          "data": {
            "text/plain": [
              "(1386, 8)"
            ]
          },
          "execution_count": 3,
          "metadata": {},
          "output_type": "execute_result"
        }
      ]
    },
    {
      "cell_type": "code",
      "metadata": {
        "id": "aYJScjv0iY4Q",
        "outputId": "7b973718-8d93-4e0a-f3fd-ad1104fa6e85"
      },
      "source": [
        "data.head()"
      ],
      "execution_count": null,
      "outputs": [
        {
          "data": {
            "text/html": [
              "<div>\n",
              "<style scoped>\n",
              "    .dataframe tbody tr th:only-of-type {\n",
              "        vertical-align: middle;\n",
              "    }\n",
              "\n",
              "    .dataframe tbody tr th {\n",
              "        vertical-align: top;\n",
              "    }\n",
              "\n",
              "    .dataframe thead th {\n",
              "        text-align: right;\n",
              "    }\n",
              "</style>\n",
              "<table border=\"1\" class=\"dataframe\">\n",
              "  <thead>\n",
              "    <tr style=\"text-align: right;\">\n",
              "      <th></th>\n",
              "      <th>Date</th>\n",
              "      <th>Store_Name</th>\n",
              "      <th>Region</th>\n",
              "      <th>Units_Sold</th>\n",
              "      <th>Average Retail Price</th>\n",
              "      <th>Sales_Rep</th>\n",
              "      <th>Endcap</th>\n",
              "      <th>Demo</th>\n",
              "    </tr>\n",
              "  </thead>\n",
              "  <tbody>\n",
              "    <tr>\n",
              "      <th>0</th>\n",
              "      <td>8/10/20</td>\n",
              "      <td>Academy</td>\n",
              "      <td>Rocky Mountains</td>\n",
              "      <td>271.0</td>\n",
              "      <td>$4.29</td>\n",
              "      <td>1</td>\n",
              "      <td>0</td>\n",
              "      <td>0</td>\n",
              "    </tr>\n",
              "    <tr>\n",
              "      <th>1</th>\n",
              "      <td>8/17/20</td>\n",
              "      <td>Academy</td>\n",
              "      <td>Rocky Mountains</td>\n",
              "      <td>315.0</td>\n",
              "      <td>$4.29</td>\n",
              "      <td>1</td>\n",
              "      <td>0</td>\n",
              "      <td>1</td>\n",
              "    </tr>\n",
              "    <tr>\n",
              "      <th>2</th>\n",
              "      <td>8/24/20</td>\n",
              "      <td>Academy</td>\n",
              "      <td>Rocky Mountains</td>\n",
              "      <td>391.0</td>\n",
              "      <td>$4.09</td>\n",
              "      <td>1</td>\n",
              "      <td>0</td>\n",
              "      <td>0</td>\n",
              "    </tr>\n",
              "    <tr>\n",
              "      <th>3</th>\n",
              "      <td>8/31/20</td>\n",
              "      <td>Academy</td>\n",
              "      <td>Rocky Mountains</td>\n",
              "      <td>250.0</td>\n",
              "      <td>$4.09</td>\n",
              "      <td>1</td>\n",
              "      <td>0</td>\n",
              "      <td>0</td>\n",
              "    </tr>\n",
              "    <tr>\n",
              "      <th>4</th>\n",
              "      <td>9/7/20</td>\n",
              "      <td>Academy</td>\n",
              "      <td>Rocky Mountains</td>\n",
              "      <td>222.0</td>\n",
              "      <td>$4.79</td>\n",
              "      <td>1</td>\n",
              "      <td>0</td>\n",
              "      <td>0</td>\n",
              "    </tr>\n",
              "  </tbody>\n",
              "</table>\n",
              "</div>"
            ],
            "text/plain": [
              "      Date Store_Name           Region  Units_Sold Average Retail Price  \\\n",
              "0  8/10/20    Academy  Rocky Mountains       271.0                $4.29   \n",
              "1  8/17/20    Academy  Rocky Mountains       315.0                $4.29   \n",
              "2  8/24/20    Academy  Rocky Mountains       391.0                $4.09   \n",
              "3  8/31/20    Academy  Rocky Mountains       250.0                $4.09   \n",
              "4   9/7/20    Academy  Rocky Mountains       222.0                $4.79   \n",
              "\n",
              "   Sales_Rep  Endcap  Demo  \n",
              "0          1       0     0  \n",
              "1          1       0     1  \n",
              "2          1       0     0  \n",
              "3          1       0     0  \n",
              "4          1       0     0  "
            ]
          },
          "execution_count": 4,
          "metadata": {},
          "output_type": "execute_result"
        }
      ]
    },
    {
      "cell_type": "code",
      "metadata": {
        "id": "cElhrc2liY4R",
        "outputId": "1b01970c-d002-4b77-ba44-339e9c63b2e5"
      },
      "source": [
        "data.describe()"
      ],
      "execution_count": null,
      "outputs": [
        {
          "data": {
            "text/html": [
              "<div>\n",
              "<style scoped>\n",
              "    .dataframe tbody tr th:only-of-type {\n",
              "        vertical-align: middle;\n",
              "    }\n",
              "\n",
              "    .dataframe tbody tr th {\n",
              "        vertical-align: top;\n",
              "    }\n",
              "\n",
              "    .dataframe thead th {\n",
              "        text-align: right;\n",
              "    }\n",
              "</style>\n",
              "<table border=\"1\" class=\"dataframe\">\n",
              "  <thead>\n",
              "    <tr style=\"text-align: right;\">\n",
              "      <th></th>\n",
              "      <th>Units_Sold</th>\n",
              "      <th>Sales_Rep</th>\n",
              "      <th>Endcap</th>\n",
              "      <th>Demo</th>\n",
              "    </tr>\n",
              "  </thead>\n",
              "  <tbody>\n",
              "    <tr>\n",
              "      <th>count</th>\n",
              "      <td>1381.00000</td>\n",
              "      <td>1386.000000</td>\n",
              "      <td>1386.000000</td>\n",
              "      <td>1386.000000</td>\n",
              "    </tr>\n",
              "    <tr>\n",
              "      <th>mean</th>\n",
              "      <td>257.05441</td>\n",
              "      <td>0.549784</td>\n",
              "      <td>0.038240</td>\n",
              "      <td>0.058442</td>\n",
              "    </tr>\n",
              "    <tr>\n",
              "      <th>std</th>\n",
              "      <td>242.86067</td>\n",
              "      <td>0.497695</td>\n",
              "      <td>0.191843</td>\n",
              "      <td>0.234661</td>\n",
              "    </tr>\n",
              "    <tr>\n",
              "      <th>min</th>\n",
              "      <td>1.88000</td>\n",
              "      <td>0.000000</td>\n",
              "      <td>0.000000</td>\n",
              "      <td>0.000000</td>\n",
              "    </tr>\n",
              "    <tr>\n",
              "      <th>25%</th>\n",
              "      <td>188.00000</td>\n",
              "      <td>0.000000</td>\n",
              "      <td>0.000000</td>\n",
              "      <td>0.000000</td>\n",
              "    </tr>\n",
              "    <tr>\n",
              "      <th>50%</th>\n",
              "      <td>236.00000</td>\n",
              "      <td>1.000000</td>\n",
              "      <td>0.000000</td>\n",
              "      <td>0.000000</td>\n",
              "    </tr>\n",
              "    <tr>\n",
              "      <th>75%</th>\n",
              "      <td>295.00000</td>\n",
              "      <td>1.000000</td>\n",
              "      <td>0.000000</td>\n",
              "      <td>0.000000</td>\n",
              "    </tr>\n",
              "    <tr>\n",
              "      <th>max</th>\n",
              "      <td>8100.00000</td>\n",
              "      <td>1.000000</td>\n",
              "      <td>1.000000</td>\n",
              "      <td>1.000000</td>\n",
              "    </tr>\n",
              "  </tbody>\n",
              "</table>\n",
              "</div>"
            ],
            "text/plain": [
              "       Units_Sold    Sales_Rep       Endcap         Demo\n",
              "count  1381.00000  1386.000000  1386.000000  1386.000000\n",
              "mean    257.05441     0.549784     0.038240     0.058442\n",
              "std     242.86067     0.497695     0.191843     0.234661\n",
              "min       1.88000     0.000000     0.000000     0.000000\n",
              "25%     188.00000     0.000000     0.000000     0.000000\n",
              "50%     236.00000     1.000000     0.000000     0.000000\n",
              "75%     295.00000     1.000000     0.000000     0.000000\n",
              "max    8100.00000     1.000000     1.000000     1.000000"
            ]
          },
          "execution_count": 5,
          "metadata": {},
          "output_type": "execute_result"
        }
      ]
    },
    {
      "cell_type": "code",
      "metadata": {
        "id": "PtTeFIkBiY4R",
        "outputId": "c44b82f2-5555-458c-e857-4ddc0150bcca"
      },
      "source": [
        "data.info()"
      ],
      "execution_count": null,
      "outputs": [
        {
          "name": "stdout",
          "output_type": "stream",
          "text": [
            "<class 'pandas.core.frame.DataFrame'>\n",
            "RangeIndex: 1386 entries, 0 to 1385\n",
            "Data columns (total 8 columns):\n",
            " #   Column                Non-Null Count  Dtype  \n",
            "---  ------                --------------  -----  \n",
            " 0   Date                  1386 non-null   object \n",
            " 1   Store_Name            1386 non-null   object \n",
            " 2   Region                1386 non-null   object \n",
            " 3   Units_Sold            1381 non-null   float64\n",
            " 4   Average Retail Price  1386 non-null   object \n",
            " 5   Sales_Rep             1386 non-null   int64  \n",
            " 6   Endcap                1386 non-null   int64  \n",
            " 7   Demo                  1386 non-null   int64  \n",
            "dtypes: float64(1), int64(3), object(4)\n",
            "memory usage: 86.8+ KB\n"
          ]
        }
      ]
    },
    {
      "cell_type": "code",
      "metadata": {
        "id": "OhHgqDhkiY4S"
      },
      "source": [
        "data['Date'] = pd.to_datetime(data.Date)"
      ],
      "execution_count": null,
      "outputs": []
    },
    {
      "cell_type": "code",
      "metadata": {
        "id": "kEoRQzzBiY4T"
      },
      "source": [
        "data['Demo_lag_1'] = data.sort_values('Date').groupby('Store_Name')['Demo'].shift(1)\n",
        "data['Demo_lag_2'] = data.sort_values('Date').groupby('Store_Name')['Demo'].shift(2)\n",
        "data['Demo_lag_3'] = data.sort_values('Date').groupby('Store_Name')['Demo'].shift(3)\n",
        "data['Demo_lag_4'] = data.sort_values('Date').groupby('Store_Name')['Demo'].shift(4)\n",
        "data['Demo_lag_5'] = data.sort_values('Date').groupby('Store_Name')['Demo'].shift(5)"
      ],
      "execution_count": null,
      "outputs": []
    },
    {
      "cell_type": "code",
      "metadata": {
        "id": "xmqVLh0UiY4U"
      },
      "source": [
        "data=data.fillna(0)"
      ],
      "execution_count": null,
      "outputs": []
    },
    {
      "cell_type": "code",
      "metadata": {
        "id": "LZSUI9dSiY4V"
      },
      "source": [
        "data['Demo_lag_sum'] = data['Demo_lag_1']+data['Demo_lag_2']+data['Demo_lag_3']+data['Demo_lag_4']+data['Demo_lag_5']"
      ],
      "execution_count": null,
      "outputs": []
    },
    {
      "cell_type": "code",
      "metadata": {
        "id": "FbbXzlv2iY4W"
      },
      "source": [
        "data.loc[data['Demo_lag_sum']!=0,\"Demo_lag\"] = 1\n",
        "data.loc[data['Demo_lag_sum']==0,\"Demo_lag\"] = 0"
      ],
      "execution_count": null,
      "outputs": []
    },
    {
      "cell_type": "code",
      "metadata": {
        "id": "HbXzIkLriY4X",
        "outputId": "37297f6d-24e2-4ed0-a298-da2997800d97"
      },
      "source": [
        "data.head()"
      ],
      "execution_count": null,
      "outputs": [
        {
          "data": {
            "text/html": [
              "<div>\n",
              "<style scoped>\n",
              "    .dataframe tbody tr th:only-of-type {\n",
              "        vertical-align: middle;\n",
              "    }\n",
              "\n",
              "    .dataframe tbody tr th {\n",
              "        vertical-align: top;\n",
              "    }\n",
              "\n",
              "    .dataframe thead th {\n",
              "        text-align: right;\n",
              "    }\n",
              "</style>\n",
              "<table border=\"1\" class=\"dataframe\">\n",
              "  <thead>\n",
              "    <tr style=\"text-align: right;\">\n",
              "      <th></th>\n",
              "      <th>Date</th>\n",
              "      <th>Store_Name</th>\n",
              "      <th>Region</th>\n",
              "      <th>Units_Sold</th>\n",
              "      <th>Average Retail Price</th>\n",
              "      <th>Sales_Rep</th>\n",
              "      <th>Endcap</th>\n",
              "      <th>Demo</th>\n",
              "      <th>Demo_lag_1</th>\n",
              "      <th>Demo_lag_2</th>\n",
              "      <th>Demo_lag_3</th>\n",
              "      <th>Demo_lag_4</th>\n",
              "      <th>Demo_lag_5</th>\n",
              "      <th>Demo_lag_sum</th>\n",
              "      <th>Demo_lag</th>\n",
              "    </tr>\n",
              "  </thead>\n",
              "  <tbody>\n",
              "    <tr>\n",
              "      <th>0</th>\n",
              "      <td>2020-08-10</td>\n",
              "      <td>Academy</td>\n",
              "      <td>Rocky Mountains</td>\n",
              "      <td>271.0</td>\n",
              "      <td>$4.29</td>\n",
              "      <td>1</td>\n",
              "      <td>0</td>\n",
              "      <td>0</td>\n",
              "      <td>0.0</td>\n",
              "      <td>0.0</td>\n",
              "      <td>0.0</td>\n",
              "      <td>0.0</td>\n",
              "      <td>0.0</td>\n",
              "      <td>0.0</td>\n",
              "      <td>0.0</td>\n",
              "    </tr>\n",
              "    <tr>\n",
              "      <th>1</th>\n",
              "      <td>2020-08-17</td>\n",
              "      <td>Academy</td>\n",
              "      <td>Rocky Mountains</td>\n",
              "      <td>315.0</td>\n",
              "      <td>$4.29</td>\n",
              "      <td>1</td>\n",
              "      <td>0</td>\n",
              "      <td>1</td>\n",
              "      <td>0.0</td>\n",
              "      <td>0.0</td>\n",
              "      <td>0.0</td>\n",
              "      <td>0.0</td>\n",
              "      <td>0.0</td>\n",
              "      <td>0.0</td>\n",
              "      <td>0.0</td>\n",
              "    </tr>\n",
              "    <tr>\n",
              "      <th>2</th>\n",
              "      <td>2020-08-24</td>\n",
              "      <td>Academy</td>\n",
              "      <td>Rocky Mountains</td>\n",
              "      <td>391.0</td>\n",
              "      <td>$4.09</td>\n",
              "      <td>1</td>\n",
              "      <td>0</td>\n",
              "      <td>0</td>\n",
              "      <td>1.0</td>\n",
              "      <td>0.0</td>\n",
              "      <td>0.0</td>\n",
              "      <td>0.0</td>\n",
              "      <td>0.0</td>\n",
              "      <td>1.0</td>\n",
              "      <td>1.0</td>\n",
              "    </tr>\n",
              "    <tr>\n",
              "      <th>3</th>\n",
              "      <td>2020-08-31</td>\n",
              "      <td>Academy</td>\n",
              "      <td>Rocky Mountains</td>\n",
              "      <td>250.0</td>\n",
              "      <td>$4.09</td>\n",
              "      <td>1</td>\n",
              "      <td>0</td>\n",
              "      <td>0</td>\n",
              "      <td>0.0</td>\n",
              "      <td>1.0</td>\n",
              "      <td>0.0</td>\n",
              "      <td>0.0</td>\n",
              "      <td>0.0</td>\n",
              "      <td>1.0</td>\n",
              "      <td>1.0</td>\n",
              "    </tr>\n",
              "    <tr>\n",
              "      <th>4</th>\n",
              "      <td>2020-09-07</td>\n",
              "      <td>Academy</td>\n",
              "      <td>Rocky Mountains</td>\n",
              "      <td>222.0</td>\n",
              "      <td>$4.79</td>\n",
              "      <td>1</td>\n",
              "      <td>0</td>\n",
              "      <td>0</td>\n",
              "      <td>0.0</td>\n",
              "      <td>0.0</td>\n",
              "      <td>1.0</td>\n",
              "      <td>0.0</td>\n",
              "      <td>0.0</td>\n",
              "      <td>1.0</td>\n",
              "      <td>1.0</td>\n",
              "    </tr>\n",
              "  </tbody>\n",
              "</table>\n",
              "</div>"
            ],
            "text/plain": [
              "        Date Store_Name           Region  Units_Sold Average Retail Price  \\\n",
              "0 2020-08-10    Academy  Rocky Mountains       271.0                $4.29   \n",
              "1 2020-08-17    Academy  Rocky Mountains       315.0                $4.29   \n",
              "2 2020-08-24    Academy  Rocky Mountains       391.0                $4.09   \n",
              "3 2020-08-31    Academy  Rocky Mountains       250.0                $4.09   \n",
              "4 2020-09-07    Academy  Rocky Mountains       222.0                $4.79   \n",
              "\n",
              "   Sales_Rep  Endcap  Demo  Demo_lag_1  Demo_lag_2  Demo_lag_3  Demo_lag_4  \\\n",
              "0          1       0     0         0.0         0.0         0.0         0.0   \n",
              "1          1       0     1         0.0         0.0         0.0         0.0   \n",
              "2          1       0     0         1.0         0.0         0.0         0.0   \n",
              "3          1       0     0         0.0         1.0         0.0         0.0   \n",
              "4          1       0     0         0.0         0.0         1.0         0.0   \n",
              "\n",
              "   Demo_lag_5  Demo_lag_sum  Demo_lag  \n",
              "0         0.0           0.0       0.0  \n",
              "1         0.0           0.0       0.0  \n",
              "2         0.0           1.0       1.0  \n",
              "3         0.0           1.0       1.0  \n",
              "4         0.0           1.0       1.0  "
            ]
          },
          "execution_count": 12,
          "metadata": {},
          "output_type": "execute_result"
        }
      ]
    },
    {
      "cell_type": "code",
      "metadata": {
        "id": "-zMg6DMYiY4X",
        "outputId": "5dec05fc-e478-4f2d-e0b6-7e0e78d96939"
      },
      "source": [
        "data[\"Units_Sold\"].quantile([.0, 0.01, 0.25, .5, 0.75, 0.99, 1])"
      ],
      "execution_count": null,
      "outputs": [
        {
          "data": {
            "text/plain": [
              "0.00       0.000\n",
              "0.01       7.981\n",
              "0.25     187.250\n",
              "0.50     235.000\n",
              "0.75     295.000\n",
              "0.99     752.150\n",
              "1.00    8100.000\n",
              "Name: Units_Sold, dtype: float64"
            ]
          },
          "execution_count": 13,
          "metadata": {},
          "output_type": "execute_result"
        }
      ]
    },
    {
      "cell_type": "code",
      "metadata": {
        "id": "I5M9qx0-iY4Y",
        "outputId": "2a6cf77e-8561-403e-bcd2-c99f9d601335"
      },
      "source": [
        "data.head()"
      ],
      "execution_count": null,
      "outputs": [
        {
          "data": {
            "text/html": [
              "<div>\n",
              "<style scoped>\n",
              "    .dataframe tbody tr th:only-of-type {\n",
              "        vertical-align: middle;\n",
              "    }\n",
              "\n",
              "    .dataframe tbody tr th {\n",
              "        vertical-align: top;\n",
              "    }\n",
              "\n",
              "    .dataframe thead th {\n",
              "        text-align: right;\n",
              "    }\n",
              "</style>\n",
              "<table border=\"1\" class=\"dataframe\">\n",
              "  <thead>\n",
              "    <tr style=\"text-align: right;\">\n",
              "      <th></th>\n",
              "      <th>Date</th>\n",
              "      <th>Store_Name</th>\n",
              "      <th>Region</th>\n",
              "      <th>Units_Sold</th>\n",
              "      <th>Average Retail Price</th>\n",
              "      <th>Sales_Rep</th>\n",
              "      <th>Endcap</th>\n",
              "      <th>Demo</th>\n",
              "      <th>Demo_lag_1</th>\n",
              "      <th>Demo_lag_2</th>\n",
              "      <th>Demo_lag_3</th>\n",
              "      <th>Demo_lag_4</th>\n",
              "      <th>Demo_lag_5</th>\n",
              "      <th>Demo_lag_sum</th>\n",
              "      <th>Demo_lag</th>\n",
              "    </tr>\n",
              "  </thead>\n",
              "  <tbody>\n",
              "    <tr>\n",
              "      <th>0</th>\n",
              "      <td>2020-08-10</td>\n",
              "      <td>Academy</td>\n",
              "      <td>Rocky Mountains</td>\n",
              "      <td>271.0</td>\n",
              "      <td>$4.29</td>\n",
              "      <td>1</td>\n",
              "      <td>0</td>\n",
              "      <td>0</td>\n",
              "      <td>0.0</td>\n",
              "      <td>0.0</td>\n",
              "      <td>0.0</td>\n",
              "      <td>0.0</td>\n",
              "      <td>0.0</td>\n",
              "      <td>0.0</td>\n",
              "      <td>0.0</td>\n",
              "    </tr>\n",
              "    <tr>\n",
              "      <th>1</th>\n",
              "      <td>2020-08-17</td>\n",
              "      <td>Academy</td>\n",
              "      <td>Rocky Mountains</td>\n",
              "      <td>315.0</td>\n",
              "      <td>$4.29</td>\n",
              "      <td>1</td>\n",
              "      <td>0</td>\n",
              "      <td>1</td>\n",
              "      <td>0.0</td>\n",
              "      <td>0.0</td>\n",
              "      <td>0.0</td>\n",
              "      <td>0.0</td>\n",
              "      <td>0.0</td>\n",
              "      <td>0.0</td>\n",
              "      <td>0.0</td>\n",
              "    </tr>\n",
              "    <tr>\n",
              "      <th>2</th>\n",
              "      <td>2020-08-24</td>\n",
              "      <td>Academy</td>\n",
              "      <td>Rocky Mountains</td>\n",
              "      <td>391.0</td>\n",
              "      <td>$4.09</td>\n",
              "      <td>1</td>\n",
              "      <td>0</td>\n",
              "      <td>0</td>\n",
              "      <td>1.0</td>\n",
              "      <td>0.0</td>\n",
              "      <td>0.0</td>\n",
              "      <td>0.0</td>\n",
              "      <td>0.0</td>\n",
              "      <td>1.0</td>\n",
              "      <td>1.0</td>\n",
              "    </tr>\n",
              "    <tr>\n",
              "      <th>3</th>\n",
              "      <td>2020-08-31</td>\n",
              "      <td>Academy</td>\n",
              "      <td>Rocky Mountains</td>\n",
              "      <td>250.0</td>\n",
              "      <td>$4.09</td>\n",
              "      <td>1</td>\n",
              "      <td>0</td>\n",
              "      <td>0</td>\n",
              "      <td>0.0</td>\n",
              "      <td>1.0</td>\n",
              "      <td>0.0</td>\n",
              "      <td>0.0</td>\n",
              "      <td>0.0</td>\n",
              "      <td>1.0</td>\n",
              "      <td>1.0</td>\n",
              "    </tr>\n",
              "    <tr>\n",
              "      <th>4</th>\n",
              "      <td>2020-09-07</td>\n",
              "      <td>Academy</td>\n",
              "      <td>Rocky Mountains</td>\n",
              "      <td>222.0</td>\n",
              "      <td>$4.79</td>\n",
              "      <td>1</td>\n",
              "      <td>0</td>\n",
              "      <td>0</td>\n",
              "      <td>0.0</td>\n",
              "      <td>0.0</td>\n",
              "      <td>1.0</td>\n",
              "      <td>0.0</td>\n",
              "      <td>0.0</td>\n",
              "      <td>1.0</td>\n",
              "      <td>1.0</td>\n",
              "    </tr>\n",
              "  </tbody>\n",
              "</table>\n",
              "</div>"
            ],
            "text/plain": [
              "        Date Store_Name           Region  Units_Sold Average Retail Price  \\\n",
              "0 2020-08-10    Academy  Rocky Mountains       271.0                $4.29   \n",
              "1 2020-08-17    Academy  Rocky Mountains       315.0                $4.29   \n",
              "2 2020-08-24    Academy  Rocky Mountains       391.0                $4.09   \n",
              "3 2020-08-31    Academy  Rocky Mountains       250.0                $4.09   \n",
              "4 2020-09-07    Academy  Rocky Mountains       222.0                $4.79   \n",
              "\n",
              "   Sales_Rep  Endcap  Demo  Demo_lag_1  Demo_lag_2  Demo_lag_3  Demo_lag_4  \\\n",
              "0          1       0     0         0.0         0.0         0.0         0.0   \n",
              "1          1       0     1         0.0         0.0         0.0         0.0   \n",
              "2          1       0     0         1.0         0.0         0.0         0.0   \n",
              "3          1       0     0         0.0         1.0         0.0         0.0   \n",
              "4          1       0     0         0.0         0.0         1.0         0.0   \n",
              "\n",
              "   Demo_lag_5  Demo_lag_sum  Demo_lag  \n",
              "0         0.0           0.0       0.0  \n",
              "1         0.0           0.0       0.0  \n",
              "2         0.0           1.0       1.0  \n",
              "3         0.0           1.0       1.0  \n",
              "4         0.0           1.0       1.0  "
            ]
          },
          "execution_count": 14,
          "metadata": {},
          "output_type": "execute_result"
        }
      ]
    },
    {
      "cell_type": "code",
      "metadata": {
        "id": "fyCyRrWDiY4Y",
        "outputId": "11548458-e507-4db0-edbb-eced55f4be95"
      },
      "source": [
        "data_1=data[(data['Units_Sold']<=1000) & (data['Units_Sold']>=50) ]\n",
        "data_1.shape"
      ],
      "execution_count": null,
      "outputs": [
        {
          "data": {
            "text/plain": [
              "(1366, 15)"
            ]
          },
          "execution_count": 15,
          "metadata": {},
          "output_type": "execute_result"
        }
      ]
    },
    {
      "cell_type": "code",
      "metadata": {
        "id": "95I7NOA9iY4Z",
        "outputId": "60419121-e755-4155-b908-48b8d67dd2d8"
      },
      "source": [
        "plt.figure(figsize=(8,6))\n",
        "plt.hist(data_1['Units_Sold'].values, bins=200)\n",
        "plt.show()"
      ],
      "execution_count": null,
      "outputs": [
        {
          "data": {
            "image/png": "[encoded data removed]",
            "text/plain": [
              "<Figure size 576x432 with 1 Axes>"
            ]
          },
          "metadata": {
            "needs_background": "light"
          },
          "output_type": "display_data"
        }
      ]
    },
    {
      "cell_type": "code",
      "metadata": {
        "id": "EhdWZNjpiY4Z"
      },
      "source": [
        "#tranform the datatype of price\n",
        "data_1['Average Retail Price'] = data_1['Average Retail Price'].apply(lambda x: x.replace('$','')).astype(np.float64)"
      ],
      "execution_count": null,
      "outputs": []
    },
    {
      "cell_type": "code",
      "metadata": {
        "id": "9eE173HMiY4a"
      },
      "source": [
        "#drop missing value\n",
        "data_2=data_1.dropna()"
      ],
      "execution_count": null,
      "outputs": []
    },
    {
      "cell_type": "code",
      "metadata": {
        "id": "K9UdsODiiY4a",
        "outputId": "d473201d-8b79-4184-9320-3e5231aa243d"
      },
      "source": [
        "#delete the 'Date'and 'Storename'\n",
        "data_3=data_2.drop(['Date','Store_Name','Demo_lag_1','Demo_lag_2','Demo_lag_3','Demo_lag_4','Demo_lag_5','Demo_lag_sum'],axis=1)\n",
        "data_3.head()"
      ],
      "execution_count": null,
      "outputs": [
        {
          "data": {
            "text/html": [
              "<div>\n",
              "<style scoped>\n",
              "    .dataframe tbody tr th:only-of-type {\n",
              "        vertical-align: middle;\n",
              "    }\n",
              "\n",
              "    .dataframe tbody tr th {\n",
              "        vertical-align: top;\n",
              "    }\n",
              "\n",
              "    .dataframe thead th {\n",
              "        text-align: right;\n",
              "    }\n",
              "</style>\n",
              "<table border=\"1\" class=\"dataframe\">\n",
              "  <thead>\n",
              "    <tr style=\"text-align: right;\">\n",
              "      <th></th>\n",
              "      <th>Region</th>\n",
              "      <th>Units_Sold</th>\n",
              "      <th>Average Retail Price</th>\n",
              "      <th>Sales_Rep</th>\n",
              "      <th>Endcap</th>\n",
              "      <th>Demo</th>\n",
              "      <th>Demo_lag</th>\n",
              "    </tr>\n",
              "  </thead>\n",
              "  <tbody>\n",
              "    <tr>\n",
              "      <th>0</th>\n",
              "      <td>Rocky Mountains</td>\n",
              "      <td>271.0</td>\n",
              "      <td>4.29</td>\n",
              "      <td>1</td>\n",
              "      <td>0</td>\n",
              "      <td>0</td>\n",
              "      <td>0.0</td>\n",
              "    </tr>\n",
              "    <tr>\n",
              "      <th>1</th>\n",
              "      <td>Rocky Mountains</td>\n",
              "      <td>315.0</td>\n",
              "      <td>4.29</td>\n",
              "      <td>1</td>\n",
              "      <td>0</td>\n",
              "      <td>1</td>\n",
              "      <td>0.0</td>\n",
              "    </tr>\n",
              "    <tr>\n",
              "      <th>2</th>\n",
              "      <td>Rocky Mountains</td>\n",
              "      <td>391.0</td>\n",
              "      <td>4.09</td>\n",
              "      <td>1</td>\n",
              "      <td>0</td>\n",
              "      <td>0</td>\n",
              "      <td>1.0</td>\n",
              "    </tr>\n",
              "    <tr>\n",
              "      <th>3</th>\n",
              "      <td>Rocky Mountains</td>\n",
              "      <td>250.0</td>\n",
              "      <td>4.09</td>\n",
              "      <td>1</td>\n",
              "      <td>0</td>\n",
              "      <td>0</td>\n",
              "      <td>1.0</td>\n",
              "    </tr>\n",
              "    <tr>\n",
              "      <th>4</th>\n",
              "      <td>Rocky Mountains</td>\n",
              "      <td>222.0</td>\n",
              "      <td>4.79</td>\n",
              "      <td>1</td>\n",
              "      <td>0</td>\n",
              "      <td>0</td>\n",
              "      <td>1.0</td>\n",
              "    </tr>\n",
              "  </tbody>\n",
              "</table>\n",
              "</div>"
            ],
            "text/plain": [
              "            Region  Units_Sold  Average Retail Price  Sales_Rep  Endcap  Demo  \\\n",
              "0  Rocky Mountains       271.0                  4.29          1       0     0   \n",
              "1  Rocky Mountains       315.0                  4.29          1       0     1   \n",
              "2  Rocky Mountains       391.0                  4.09          1       0     0   \n",
              "3  Rocky Mountains       250.0                  4.09          1       0     0   \n",
              "4  Rocky Mountains       222.0                  4.79          1       0     0   \n",
              "\n",
              "   Demo_lag  \n",
              "0       0.0  \n",
              "1       0.0  \n",
              "2       1.0  \n",
              "3       1.0  \n",
              "4       1.0  "
            ]
          },
          "execution_count": 19,
          "metadata": {},
          "output_type": "execute_result"
        }
      ]
    },
    {
      "cell_type": "code",
      "metadata": {
        "id": "Xx8tm-OGiY4b",
        "outputId": "681621b1-310c-4da8-95f6-96a959751ca8"
      },
      "source": [
        "len(data_3)"
      ],
      "execution_count": null,
      "outputs": [
        {
          "data": {
            "text/plain": [
              "1366"
            ]
          },
          "execution_count": 20,
          "metadata": {},
          "output_type": "execute_result"
        }
      ]
    },
    {
      "cell_type": "code",
      "metadata": {
        "id": "v9WkmfyviY4c"
      },
      "source": [
        "#one hot encoding\n",
        "onehot= pd.get_dummies(data_3['Region'])\n",
        "data_encoded = pd.concat([data_3, onehot], axis=1)"
      ],
      "execution_count": null,
      "outputs": []
    },
    {
      "cell_type": "code",
      "metadata": {
        "id": "dY-9wM5biY4c",
        "outputId": "8e9c3629-25a7-4a10-d66f-25dccf2533f5"
      },
      "source": [
        "data_4=data_encoded.drop('Region',axis=1)\n",
        "data_4.head()"
      ],
      "execution_count": null,
      "outputs": [
        {
          "data": {
            "text/html": [
              "<div>\n",
              "<style scoped>\n",
              "    .dataframe tbody tr th:only-of-type {\n",
              "        vertical-align: middle;\n",
              "    }\n",
              "\n",
              "    .dataframe tbody tr th {\n",
              "        vertical-align: top;\n",
              "    }\n",
              "\n",
              "    .dataframe thead th {\n",
              "        text-align: right;\n",
              "    }\n",
              "</style>\n",
              "<table border=\"1\" class=\"dataframe\">\n",
              "  <thead>\n",
              "    <tr style=\"text-align: right;\">\n",
              "      <th></th>\n",
              "      <th>Units_Sold</th>\n",
              "      <th>Average Retail Price</th>\n",
              "      <th>Sales_Rep</th>\n",
              "      <th>Endcap</th>\n",
              "      <th>Demo</th>\n",
              "      <th>Demo_lag</th>\n",
              "      <th>Florida</th>\n",
              "      <th>Mid Atlantic</th>\n",
              "      <th>Midwest</th>\n",
              "      <th>North Atlantic</th>\n",
              "      <th>Northeast</th>\n",
              "      <th>Northern California</th>\n",
              "      <th>Pacific Northwest</th>\n",
              "      <th>Rocky Mountains</th>\n",
              "      <th>South</th>\n",
              "      <th>South Pacific</th>\n",
              "      <th>Southwest</th>\n",
              "    </tr>\n",
              "  </thead>\n",
              "  <tbody>\n",
              "    <tr>\n",
              "      <th>0</th>\n",
              "      <td>271.0</td>\n",
              "      <td>4.29</td>\n",
              "      <td>1</td>\n",
              "      <td>0</td>\n",
              "      <td>0</td>\n",
              "      <td>0.0</td>\n",
              "      <td>0</td>\n",
              "      <td>0</td>\n",
              "      <td>0</td>\n",
              "      <td>0</td>\n",
              "      <td>0</td>\n",
              "      <td>0</td>\n",
              "      <td>0</td>\n",
              "      <td>1</td>\n",
              "      <td>0</td>\n",
              "      <td>0</td>\n",
              "      <td>0</td>\n",
              "    </tr>\n",
              "    <tr>\n",
              "      <th>1</th>\n",
              "      <td>315.0</td>\n",
              "      <td>4.29</td>\n",
              "      <td>1</td>\n",
              "      <td>0</td>\n",
              "      <td>1</td>\n",
              "      <td>0.0</td>\n",
              "      <td>0</td>\n",
              "      <td>0</td>\n",
              "      <td>0</td>\n",
              "      <td>0</td>\n",
              "      <td>0</td>\n",
              "      <td>0</td>\n",
              "      <td>0</td>\n",
              "      <td>1</td>\n",
              "      <td>0</td>\n",
              "      <td>0</td>\n",
              "      <td>0</td>\n",
              "    </tr>\n",
              "    <tr>\n",
              "      <th>2</th>\n",
              "      <td>391.0</td>\n",
              "      <td>4.09</td>\n",
              "      <td>1</td>\n",
              "      <td>0</td>\n",
              "      <td>0</td>\n",
              "      <td>1.0</td>\n",
              "      <td>0</td>\n",
              "      <td>0</td>\n",
              "      <td>0</td>\n",
              "      <td>0</td>\n",
              "      <td>0</td>\n",
              "      <td>0</td>\n",
              "      <td>0</td>\n",
              "      <td>1</td>\n",
              "      <td>0</td>\n",
              "      <td>0</td>\n",
              "      <td>0</td>\n",
              "    </tr>\n",
              "    <tr>\n",
              "      <th>3</th>\n",
              "      <td>250.0</td>\n",
              "      <td>4.09</td>\n",
              "      <td>1</td>\n",
              "      <td>0</td>\n",
              "      <td>0</td>\n",
              "      <td>1.0</td>\n",
              "      <td>0</td>\n",
              "      <td>0</td>\n",
              "      <td>0</td>\n",
              "      <td>0</td>\n",
              "      <td>0</td>\n",
              "      <td>0</td>\n",
              "      <td>0</td>\n",
              "      <td>1</td>\n",
              "      <td>0</td>\n",
              "      <td>0</td>\n",
              "      <td>0</td>\n",
              "    </tr>\n",
              "    <tr>\n",
              "      <th>4</th>\n",
              "      <td>222.0</td>\n",
              "      <td>4.79</td>\n",
              "      <td>1</td>\n",
              "      <td>0</td>\n",
              "      <td>0</td>\n",
              "      <td>1.0</td>\n",
              "      <td>0</td>\n",
              "      <td>0</td>\n",
              "      <td>0</td>\n",
              "      <td>0</td>\n",
              "      <td>0</td>\n",
              "      <td>0</td>\n",
              "      <td>0</td>\n",
              "      <td>1</td>\n",
              "      <td>0</td>\n",
              "      <td>0</td>\n",
              "      <td>0</td>\n",
              "    </tr>\n",
              "  </tbody>\n",
              "</table>\n",
              "</div>"
            ],
            "text/plain": [
              "   Units_Sold  Average Retail Price  Sales_Rep  Endcap  Demo  Demo_lag  \\\n",
              "0       271.0                  4.29          1       0     0       0.0   \n",
              "1       315.0                  4.29          1       0     1       0.0   \n",
              "2       391.0                  4.09          1       0     0       1.0   \n",
              "3       250.0                  4.09          1       0     0       1.0   \n",
              "4       222.0                  4.79          1       0     0       1.0   \n",
              "\n",
              "   Florida  Mid Atlantic  Midwest  North Atlantic  Northeast  \\\n",
              "0        0             0        0               0          0   \n",
              "1        0             0        0               0          0   \n",
              "2        0             0        0               0          0   \n",
              "3        0             0        0               0          0   \n",
              "4        0             0        0               0          0   \n",
              "\n",
              "   Northern California  Pacific Northwest  Rocky Mountains  South  \\\n",
              "0                    0                  0                1      0   \n",
              "1                    0                  0                1      0   \n",
              "2                    0                  0                1      0   \n",
              "3                    0                  0                1      0   \n",
              "4                    0                  0                1      0   \n",
              "\n",
              "   South Pacific  Southwest  \n",
              "0              0          0  \n",
              "1              0          0  \n",
              "2              0          0  \n",
              "3              0          0  \n",
              "4              0          0  "
            ]
          },
          "execution_count": 22,
          "metadata": {},
          "output_type": "execute_result"
        }
      ]
    },
    {
      "cell_type": "code",
      "metadata": {
        "id": "9ZJUDdLniY4d"
      },
      "source": [
        "datapoints = data_4.drop('Units_Sold', axis=1)\n",
        "target = np.array(data_4['Units_Sold'])"
      ],
      "execution_count": null,
      "outputs": []
    },
    {
      "cell_type": "code",
      "metadata": {
        "id": "Mx4XebBViY4d"
      },
      "source": [
        "X_train, X_test, y_train, y_test = train_test_split(datapoints, target, test_size=0.2, random_state=42)"
      ],
      "execution_count": null,
      "outputs": []
    },
    {
      "cell_type": "code",
      "metadata": {
        "id": "Ld518fVRiY4d",
        "outputId": "6a027e7a-2fee-476b-d6a7-9543ffde8424"
      },
      "source": [
        "###---start fitting your models---###\n",
        "import statsmodels.api as sm\n",
        "lm_1 = sm.OLS(y_train,X_train)\n",
        "results = lm_1.fit()\n",
        "print(results.summary())"
      ],
      "execution_count": null,
      "outputs": [
        {
          "name": "stdout",
          "output_type": "stream",
          "text": [
            "                            OLS Regression Results                            \n",
            "==============================================================================\n",
            "Dep. Variable:                      y   R-squared:                       0.651\n",
            "Model:                            OLS   Adj. R-squared:                  0.646\n",
            "Method:                 Least Squares   F-statistic:                     133.7\n",
            "Date:                Thu, 17 Jun 2021   Prob (F-statistic):          3.08e-233\n",
            "Time:                        11:41:29   Log-Likelihood:                -6059.7\n",
            "No. Observations:                1092   AIC:                         1.215e+04\n",
            "Df Residuals:                    1076   BIC:                         1.223e+04\n",
            "Df Model:                          15                                         \n",
            "Covariance Type:            nonrobust                                         \n",
            "========================================================================================\n",
            "                           coef    std err          t      P>|t|      [0.025      0.975]\n",
            "----------------------------------------------------------------------------------------\n",
            "Average Retail Price   -30.1087      5.236     -5.750      0.000     -40.382     -19.835\n",
            "Sales_Rep               17.5759     15.559      1.130      0.259     -12.954      48.106\n",
            "Endcap                 285.6307     10.945     26.097      0.000     264.154     307.107\n",
            "Demo                   102.3782      8.438     12.133      0.000      85.821     118.936\n",
            "Demo_lag                70.7029      5.510     12.832      0.000      59.892      81.514\n",
            "Florida                282.4714     22.982     12.291      0.000     237.376     327.567\n",
            "Mid Atlantic           297.6561     19.705     15.106      0.000     258.991     336.321\n",
            "Midwest                356.9287     27.210     13.118      0.000     303.538     410.319\n",
            "North Atlantic         306.7719     22.377     13.709      0.000     262.864     350.680\n",
            "Northeast              348.7328     26.443     13.188      0.000     296.846     400.619\n",
            "Northern California    382.0731     29.809     12.817      0.000     323.582     440.564\n",
            "Pacific Northwest      381.1460     28.276     13.480      0.000     325.664     436.628\n",
            "Rocky Mountains        363.8783     29.518     12.327      0.000     305.958     421.799\n",
            "South                  307.7049     21.532     14.291      0.000     265.456     349.954\n",
            "South Pacific          369.9632     29.418     12.576      0.000     312.240     427.686\n",
            "Southwest              306.1298     23.506     13.024      0.000     260.008     352.252\n",
            "==============================================================================\n",
            "Omnibus:                      148.308   Durbin-Watson:                   2.083\n",
            "Prob(Omnibus):                  0.000   Jarque-Bera (JB):              647.210\n",
            "Skew:                          -0.564   Prob(JB):                    2.88e-141\n",
            "Kurtosis:                       6.599   Cond. No.                         177.\n",
            "==============================================================================\n",
            "\n",
            "Notes:\n",
            "[1] Standard Errors assume that the covariance matrix of the errors is correctly specified.\n"
          ]
        }
      ]
    },
    {
      "cell_type": "code",
      "metadata": {
        "id": "kp4z4fSCiY4e"
      },
      "source": [
        "from sklearn.metrics import mean_squared_error\n",
        "def overall_score(model):\n",
        "    pred_train = model.predict(X_train)\n",
        "    rmse1 = np.sqrt(mean_squared_error(y_train,pred_train))\n",
        "    print('Train rmse: {}'.format(rmse1))\n",
        "    pred_test = model.predict(X_test)\n",
        "    rmse2 = np.sqrt(mean_squared_error(y_test,pred_test))\n",
        "    print('Test rmse: {}'.format(rmse2))\n",
        "    "
      ],
      "execution_count": null,
      "outputs": []
    },
    {
      "cell_type": "code",
      "metadata": {
        "id": "kosSMObaiY4e",
        "outputId": "1efa489b-1820-4b09-ec1b-4f39665fd30b"
      },
      "source": [
        "from sklearn.linear_model import LinearRegression\n",
        "lr = LinearRegression().fit(X_train,y_train)\n",
        "overall_score(lr)"
      ],
      "execution_count": null,
      "outputs": [
        {
          "name": "stdout",
          "output_type": "stream",
          "text": [
            "Train rmse: 62.19529667596449\n",
            "Test rmse: 69.02701324812905\n"
          ]
        }
      ]
    },
    {
      "cell_type": "code",
      "metadata": {
        "id": "Y_WSSP4SiY4e",
        "outputId": "c8f23ff4-cfe7-4f9b-c25f-4a076db70c11"
      },
      "source": [
        "from sklearn.linear_model import Ridge\n",
        "ridge = Ridge(alpha = 1).fit(X_train,y_train)\n",
        "overall_score(ridge)"
      ],
      "execution_count": null,
      "outputs": [
        {
          "name": "stdout",
          "output_type": "stream",
          "text": [
            "Train rmse: 62.22085436415159\n",
            "Test rmse: 68.90172639444931\n"
          ]
        }
      ]
    },
    {
      "cell_type": "code",
      "metadata": {
        "id": "T50JgWH6iY4f",
        "outputId": "3bdef36b-1a52-402c-8866-b621c26a80c4"
      },
      "source": [
        "from sklearn.linear_model import Lasso\n",
        "lasso = Lasso(alpha = 0.01,max_iter = 100000).fit(X_train,y_train)\n",
        "overall_score(lasso)"
      ],
      "execution_count": null,
      "outputs": [
        {
          "name": "stdout",
          "output_type": "stream",
          "text": [
            "Train rmse: 62.19651912276092\n",
            "Test rmse: 69.02136271038623\n"
          ]
        }
      ]
    },
    {
      "cell_type": "code",
      "metadata": {
        "id": "ubQ7wnnciY4f",
        "outputId": "309fd294-0815-483d-c09f-8bff6e7e012e"
      },
      "source": [
        "from xgboost import XGBRegressor\n",
        "xgb = XGBRegressor(n_estimators=100)\n",
        "xgb.fit(X_train,y_train)\n",
        "overall_score(xgb)"
      ],
      "execution_count": null,
      "outputs": [
        {
          "name": "stdout",
          "output_type": "stream",
          "text": [
            "Train rmse: 36.39050876484447\n",
            "Test rmse: 64.40529317148739\n"
          ]
        }
      ]
    },
    {
      "cell_type": "code",
      "metadata": {
        "id": "1sXCvFzdiY4g"
      },
      "source": [
        "n_estimators = [100,200,300,400,500]\n",
        "max_depth = [3,4, 5, 6,7,8,9,10]\n",
        "min_child_weight = [1, 2, 3,4,5]\n",
        "gamma = [0,0.1, 0.2, 0.3,0.4,0.5]\n",
        "subsample = [0.5,0.6, 0.7, 0.8,0.9,1]\n",
        "colsample_bytree = [0.5,0.6, 0.7, 0.8, 0.9,1]\n",
        "reg_alpha = [0.05, 0.1, 1]\n",
        "reg_lambda = [0.05, 0.1, 1]\n",
        "learning_rate = [0.01, 0.05, 0.1, 0.2]"
      ],
      "execution_count": null,
      "outputs": []
    },
    {
      "cell_type": "code",
      "metadata": {
        "id": "gx_EmaBdiY4g"
      },
      "source": [
        "param_grid = dict(learning_rate = learning_rate)"
      ],
      "execution_count": null,
      "outputs": []
    },
    {
      "cell_type": "code",
      "metadata": {
        "id": "xV8ptyJeiY4g"
      },
      "source": [
        "from xgboost import XGBRegressor\n",
        "from sklearn.model_selection import GridSearchCV\n",
        "xgb = XGBRegressor()\n",
        "grid_search = GridSearchCV(xgb,param_grid,scoring = 'neg_mean_squared_error')\n",
        "grid_result = grid_search.fit(X_train,y_train)"
      ],
      "execution_count": null,
      "outputs": []
    },
    {
      "cell_type": "code",
      "metadata": {
        "id": "SRAB15lEiY4g",
        "outputId": "75a556c8-d5a1-45b9-e45f-f911637061dc"
      },
      "source": [
        "grid_result.best_params_"
      ],
      "execution_count": null,
      "outputs": [
        {
          "data": {
            "text/plain": [
              "{'learning_rate': 0.05}"
            ]
          },
          "execution_count": 34,
          "metadata": {},
          "output_type": "execute_result"
        }
      ]
    },
    {
      "cell_type": "code",
      "metadata": {
        "id": "mcfJc3bNiY4h",
        "outputId": "e30757dd-9b71-4403-e68b-a0ea6798d3b4"
      },
      "source": [
        "from xgboost import XGBRegressor\n",
        "xgb = XGBRegressor(n_estimators=100,min_child_weight =4,max_depth =3,gamma =0.2,colsample_bytree =0.5,reg_alpha = 0.05,learning_rate =0.05)\n",
        "xgb.fit(X_train,y_train)\n",
        "overall_score(xgb)"
      ],
      "execution_count": null,
      "outputs": [
        {
          "name": "stdout",
          "output_type": "stream",
          "text": [
            "Train rmse: 49.71321728045229\n",
            "Test rmse: 57.88668515015057\n"
          ]
        }
      ]
    },
    {
      "cell_type": "code",
      "metadata": {
        "id": "8LWMIwW1iY4h"
      },
      "source": [
        "n_estimators_range=[int(x) for x in np.linspace(start=50,stop=1000,num=20)]\n",
        "max_features_range=['auto','sqrt']\n",
        "max_depth_range=[int(x) for x in np.linspace(start=1,stop=50,num=25)]\n",
        "min_samples_split_range=[2,5,10]\n",
        "min_samples_leaf_range=[1,2,4,8]\n",
        "bootstrap_range=[True,False]"
      ],
      "execution_count": null,
      "outputs": []
    },
    {
      "cell_type": "code",
      "metadata": {
        "id": "AWIt0_Q2iY4h",
        "outputId": "30d18361-3f62-40c7-8c7f-d81ba4a132c7"
      },
      "source": [
        "random_forest_hp_range={'n_estimators':n_estimators_range,\n",
        "                        'max_features':max_features_range,\n",
        "                        'max_depth':max_depth_range,\n",
        "                        'min_samples_split':min_samples_split_range,\n",
        "                        'min_samples_leaf':min_samples_leaf_range\n",
        "                        }\n",
        "print(random_forest_hp_range)\n"
      ],
      "execution_count": null,
      "outputs": [
        {
          "name": "stdout",
          "output_type": "stream",
          "text": [
            "{'n_estimators': [50, 100, 150, 200, 250, 300, 350, 400, 450, 500, 550, 600, 650, 700, 750, 800, 850, 900, 950, 1000], 'max_features': ['auto', 'sqrt'], 'max_depth': [1, 3, 5, 7, 9, 11, 13, 15, 17, 19, 21, 23, 25, 27, 29, 31, 33, 35, 37, 39, 41, 43, 45, 47, 50], 'min_samples_split': [2, 5, 10], 'min_samples_leaf': [1, 2, 4, 8]}\n"
          ]
        }
      ]
    },
    {
      "cell_type": "code",
      "metadata": {
        "id": "IZevkDXGiY4h"
      },
      "source": [
        "from sklearn.model_selection import RandomizedSearchCV\n",
        "\n",
        "random_forest_model_test_base=RandomForestRegressor()\n",
        "random_forest_model_test_random=RandomizedSearchCV(estimator=random_forest_model_test_base,\n",
        "                                                   param_distributions=random_forest_hp_range,\n",
        "                                                   n_iter=200,\n",
        "                                                   n_jobs=-1,\n",
        "                                                   cv=3,\n",
        "                                                   verbose=1,\n",
        "                                                   random_state=42\n",
        "                                                   )\n",
        "random_forest_model_test_random.fit(X_train,y_train)\n",
        "\n",
        "best_hp_now=random_forest_model_test_random.best_params_\n",
        "print(best_hp_now)\n"
      ],
      "execution_count": null,
      "outputs": []
    },
    {
      "cell_type": "code",
      "metadata": {
        "id": "zvQgWJz6iY4i",
        "outputId": "e954bee8-f6cb-4075-fb97-b551c705057e"
      },
      "source": [
        "from sklearn.ensemble import RandomForestRegressor\n",
        "regr = RandomForestRegressor(n_estimators=200,max_depth=7,min_samples_split=10,min_samples_leaf=1,random_state=42)\n",
        "regr.fit(X_train, y_train)"
      ],
      "execution_count": null,
      "outputs": [
        {
          "data": {
            "text/plain": [
              "RandomForestRegressor(max_depth=7, min_samples_split=10, n_estimators=200,\n",
              "                      random_state=42)"
            ]
          },
          "execution_count": 285,
          "metadata": {},
          "output_type": "execute_result"
        }
      ]
    },
    {
      "cell_type": "code",
      "metadata": {
        "id": "NeY3Z4AmiY4i",
        "outputId": "70199800-008f-4c9f-8334-da165142a30d"
      },
      "source": [
        "y_pred = regr.predict(X_test)\n",
        "rmse = sqrt(metrics.mean_squared_error(y_test,y_pred))\n",
        "rmse"
      ],
      "execution_count": null,
      "outputs": [
        {
          "data": {
            "text/plain": [
              "57.52436573525199"
            ]
          },
          "execution_count": 287,
          "metadata": {},
          "output_type": "execute_result"
        }
      ]
    },
    {
      "cell_type": "code",
      "metadata": {
        "id": "-D1-oUPNiY4i",
        "outputId": "5b895ac0-fee4-44a1-f908-f7bef49900b6"
      },
      "source": [
        "plt.figure(1)\n",
        "plt.clf()\n",
        "ax=plt.axes(aspect='equal')\n",
        "plt.scatter(y_test,y_pred)\n",
        "plt.xlabel('True Values')\n",
        "plt.ylabel('Predictions')\n",
        "Lims=[0,1000]\n",
        "plt.xlim(Lims)\n",
        "plt.ylim(Lims)\n",
        "plt.plot(Lims,Lims)\n",
        "plt.grid(False)"
      ],
      "execution_count": null,
      "outputs": [
        {
          "data": {
            "image/png": "[encoded data removed]",
            "text/plain": [
              "<Figure size 432x288 with 1 Axes>"
            ]
          },
          "metadata": {
            "needs_background": "light"
          },
          "output_type": "display_data"
        }
      ]
    },
    {
      "cell_type": "code",
      "metadata": {
        "id": "yXrXRKPIiY4i"
      },
      "source": [
        "##----predict----###\n",
        "predict_data = pd.read_csv('Rollout_new.csv').drop('Unnamed: 0',axis =1)"
      ],
      "execution_count": null,
      "outputs": []
    },
    {
      "cell_type": "code",
      "metadata": {
        "id": "YdXLnZHriY4j",
        "outputId": "7b6f47ce-dd3c-4764-f40e-d35274b06134"
      },
      "source": [
        "predict_data.head()"
      ],
      "execution_count": null,
      "outputs": [
        {
          "data": {
            "text/html": [
              "<div>\n",
              "<style scoped>\n",
              "    .dataframe tbody tr th:only-of-type {\n",
              "        vertical-align: middle;\n",
              "    }\n",
              "\n",
              "    .dataframe tbody tr th {\n",
              "        vertical-align: top;\n",
              "    }\n",
              "\n",
              "    .dataframe thead th {\n",
              "        text-align: right;\n",
              "    }\n",
              "</style>\n",
              "<table border=\"1\" class=\"dataframe\">\n",
              "  <thead>\n",
              "    <tr style=\"text-align: right;\">\n",
              "      <th></th>\n",
              "      <th></th>\n",
              "      <th>store_name</th>\n",
              "      <th>address</th>\n",
              "      <th>city</th>\n",
              "      <th>state</th>\n",
              "      <th>Region</th>\n",
              "      <th>Date</th>\n",
              "      <th>Average Retail Price</th>\n",
              "      <th>Sales Rep</th>\n",
              "      <th>Endcap</th>\n",
              "      <th>Demo</th>\n",
              "      <th>alter_address</th>\n",
              "    </tr>\n",
              "  </thead>\n",
              "  <tbody>\n",
              "    <tr>\n",
              "      <th>0</th>\n",
              "      <td>Sandy</td>\n",
              "      <td>Whole Foods Market</td>\n",
              "      <td>5100 Belt Line Rd, Ste 1012</td>\n",
              "      <td>Addison</td>\n",
              "      <td>TX</td>\n",
              "      <td>Southwest</td>\n",
              "      <td>2021-01-04</td>\n",
              "      <td>$3.50</td>\n",
              "      <td>1</td>\n",
              "      <td>0</td>\n",
              "      <td>0</td>\n",
              "      <td>Belt Line Rd, Addison TX</td>\n",
              "    </tr>\n",
              "    <tr>\n",
              "      <th>1</th>\n",
              "      <td>Sandy</td>\n",
              "      <td>Whole Foods Market</td>\n",
              "      <td>5100 Belt Line Rd, Ste 1012</td>\n",
              "      <td>Addison</td>\n",
              "      <td>TX</td>\n",
              "      <td>Southwest</td>\n",
              "      <td>2021-01-11</td>\n",
              "      <td>$3.50</td>\n",
              "      <td>1</td>\n",
              "      <td>1</td>\n",
              "      <td>0</td>\n",
              "      <td>Belt Line Rd, Addison TX</td>\n",
              "    </tr>\n",
              "    <tr>\n",
              "      <th>2</th>\n",
              "      <td>Sandy</td>\n",
              "      <td>Whole Foods Market</td>\n",
              "      <td>5100 Belt Line Rd, Ste 1012</td>\n",
              "      <td>Addison</td>\n",
              "      <td>TX</td>\n",
              "      <td>Southwest</td>\n",
              "      <td>2021-01-18</td>\n",
              "      <td>$3.50</td>\n",
              "      <td>1</td>\n",
              "      <td>1</td>\n",
              "      <td>1</td>\n",
              "      <td>Belt Line Rd, Addison TX</td>\n",
              "    </tr>\n",
              "    <tr>\n",
              "      <th>3</th>\n",
              "      <td>Sandy</td>\n",
              "      <td>Whole Foods Market</td>\n",
              "      <td>5100 Belt Line Rd, Ste 1012</td>\n",
              "      <td>Addison</td>\n",
              "      <td>TX</td>\n",
              "      <td>Southwest</td>\n",
              "      <td>2021-01-25</td>\n",
              "      <td>$3.50</td>\n",
              "      <td>1</td>\n",
              "      <td>1</td>\n",
              "      <td>0</td>\n",
              "      <td>Belt Line Rd, Addison TX</td>\n",
              "    </tr>\n",
              "    <tr>\n",
              "      <th>4</th>\n",
              "      <td>Sandy</td>\n",
              "      <td>Whole Foods Market</td>\n",
              "      <td>5100 Belt Line Rd, Ste 1012</td>\n",
              "      <td>Addison</td>\n",
              "      <td>TX</td>\n",
              "      <td>Southwest</td>\n",
              "      <td>2021-02-01</td>\n",
              "      <td>$3.50</td>\n",
              "      <td>1</td>\n",
              "      <td>1</td>\n",
              "      <td>1</td>\n",
              "      <td>Belt Line Rd, Addison TX</td>\n",
              "    </tr>\n",
              "  </tbody>\n",
              "</table>\n",
              "</div>"
            ],
            "text/plain": [
              "                  store_name                      address     city state  \\\n",
              "0  Sandy  Whole Foods Market  5100 Belt Line Rd, Ste 1012  Addison    TX   \n",
              "1  Sandy  Whole Foods Market  5100 Belt Line Rd, Ste 1012  Addison    TX   \n",
              "2  Sandy  Whole Foods Market  5100 Belt Line Rd, Ste 1012  Addison    TX   \n",
              "3  Sandy  Whole Foods Market  5100 Belt Line Rd, Ste 1012  Addison    TX   \n",
              "4  Sandy  Whole Foods Market  5100 Belt Line Rd, Ste 1012  Addison    TX   \n",
              "\n",
              "      Region        Date  Average Retail Price   Sales Rep  Endcap  Demo  \\\n",
              "0  Southwest  2021-01-04                 $3.50           1       0     0   \n",
              "1  Southwest  2021-01-11                 $3.50           1       1     0   \n",
              "2  Southwest  2021-01-18                 $3.50           1       1     1   \n",
              "3  Southwest  2021-01-25                 $3.50           1       1     0   \n",
              "4  Southwest  2021-02-01                 $3.50           1       1     1   \n",
              "\n",
              "              alter_address  \n",
              "0  Belt Line Rd, Addison TX  \n",
              "1  Belt Line Rd, Addison TX  \n",
              "2  Belt Line Rd, Addison TX  \n",
              "3  Belt Line Rd, Addison TX  \n",
              "4  Belt Line Rd, Addison TX  "
            ]
          },
          "execution_count": 290,
          "metadata": {},
          "output_type": "execute_result"
        }
      ]
    },
    {
      "cell_type": "code",
      "metadata": {
        "id": "LwUv-As4iY4j"
      },
      "source": [
        "predict_data['Date'] = pd.to_datetime(predict_data.Date)"
      ],
      "execution_count": null,
      "outputs": []
    },
    {
      "cell_type": "code",
      "metadata": {
        "id": "QH-diNQTiY4j"
      },
      "source": [
        "address=predict_data['address'].str.split(' ',expand=True)\n",
        "predict_data['alter_address']=address.iloc[:,1]+' '+address.iloc[:,2]+' '+predict_data.city+' '+predict_data.state"
      ],
      "execution_count": null,
      "outputs": []
    },
    {
      "cell_type": "code",
      "metadata": {
        "id": "6tLbIfg-iY4j"
      },
      "source": [
        "predict_data['Demo_lag_1'] = predict_data.sort_values('Date').groupby('address')['Demo'].shift(1)\n",
        "predict_data['Demo_lag_2'] = predict_data.sort_values('Date').groupby('address')['Demo'].shift(2)\n",
        "predict_data['Demo_lag_3'] = predict_data.sort_values('Date').groupby('address')['Demo'].shift(3)\n",
        "predict_data['Demo_lag_4'] = predict_data.sort_values('Date').groupby('address')['Demo'].shift(4)\n",
        "predict_data['Demo_lag_5'] = predict_data.sort_values('Date').groupby('address')['Demo'].shift(5)"
      ],
      "execution_count": null,
      "outputs": []
    },
    {
      "cell_type": "code",
      "metadata": {
        "id": "nw03rCayiY4j"
      },
      "source": [
        "predict_data=predict_data.fillna(0)"
      ],
      "execution_count": null,
      "outputs": []
    },
    {
      "cell_type": "code",
      "metadata": {
        "id": "1bL3hBxgiY4k"
      },
      "source": [
        "predict_data['Demo_lag_sum'] = predict_data['Demo_lag_1']+predict_data['Demo_lag_2']+predict_data['Demo_lag_3']+predict_data['Demo_lag_4']+predict_data['Demo_lag_5']"
      ],
      "execution_count": null,
      "outputs": []
    },
    {
      "cell_type": "code",
      "metadata": {
        "id": "V0OdbO2WiY4k"
      },
      "source": [
        "predict_data.loc[predict_data['Demo_lag_sum']!=0,\"Demo_lag\"] = 1\n",
        "predict_data.loc[predict_data['Demo_lag_sum']==0,\"Demo_lag\"] = 0"
      ],
      "execution_count": null,
      "outputs": []
    },
    {
      "cell_type": "code",
      "metadata": {
        "id": "lVcqZ2MkiY4k",
        "outputId": "bd7a9a47-9353-4877-9338-3e4be7393510"
      },
      "source": [
        "predict_data.head()"
      ],
      "execution_count": null,
      "outputs": [
        {
          "data": {
            "text/html": [
              "<div>\n",
              "<style scoped>\n",
              "    .dataframe tbody tr th:only-of-type {\n",
              "        vertical-align: middle;\n",
              "    }\n",
              "\n",
              "    .dataframe tbody tr th {\n",
              "        vertical-align: top;\n",
              "    }\n",
              "\n",
              "    .dataframe thead th {\n",
              "        text-align: right;\n",
              "    }\n",
              "</style>\n",
              "<table border=\"1\" class=\"dataframe\">\n",
              "  <thead>\n",
              "    <tr style=\"text-align: right;\">\n",
              "      <th></th>\n",
              "      <th></th>\n",
              "      <th>store_name</th>\n",
              "      <th>address</th>\n",
              "      <th>city</th>\n",
              "      <th>state</th>\n",
              "      <th>Region</th>\n",
              "      <th>Date</th>\n",
              "      <th>Average Retail Price</th>\n",
              "      <th>Sales Rep</th>\n",
              "      <th>Endcap</th>\n",
              "      <th>Demo</th>\n",
              "      <th>alter_address</th>\n",
              "      <th>Demo_lag_1</th>\n",
              "      <th>Demo_lag_2</th>\n",
              "      <th>Demo_lag_3</th>\n",
              "      <th>Demo_lag_4</th>\n",
              "      <th>Demo_lag_5</th>\n",
              "      <th>Demo_lag_sum</th>\n",
              "      <th>Demo_lag</th>\n",
              "    </tr>\n",
              "  </thead>\n",
              "  <tbody>\n",
              "    <tr>\n",
              "      <th>0</th>\n",
              "      <td>Sandy</td>\n",
              "      <td>Whole Foods Market</td>\n",
              "      <td>5100 Belt Line Rd, Ste 1012</td>\n",
              "      <td>Addison</td>\n",
              "      <td>TX</td>\n",
              "      <td>Southwest</td>\n",
              "      <td>2021-01-04</td>\n",
              "      <td>$3.50</td>\n",
              "      <td>1</td>\n",
              "      <td>0</td>\n",
              "      <td>0</td>\n",
              "      <td>Belt Line Addison TX</td>\n",
              "      <td>0.0</td>\n",
              "      <td>0.0</td>\n",
              "      <td>0.0</td>\n",
              "      <td>0.0</td>\n",
              "      <td>0.0</td>\n",
              "      <td>0.0</td>\n",
              "      <td>0.0</td>\n",
              "    </tr>\n",
              "    <tr>\n",
              "      <th>1</th>\n",
              "      <td>Sandy</td>\n",
              "      <td>Whole Foods Market</td>\n",
              "      <td>5100 Belt Line Rd, Ste 1012</td>\n",
              "      <td>Addison</td>\n",
              "      <td>TX</td>\n",
              "      <td>Southwest</td>\n",
              "      <td>2021-01-11</td>\n",
              "      <td>$3.50</td>\n",
              "      <td>1</td>\n",
              "      <td>1</td>\n",
              "      <td>0</td>\n",
              "      <td>Belt Line Addison TX</td>\n",
              "      <td>0.0</td>\n",
              "      <td>0.0</td>\n",
              "      <td>0.0</td>\n",
              "      <td>0.0</td>\n",
              "      <td>0.0</td>\n",
              "      <td>0.0</td>\n",
              "      <td>0.0</td>\n",
              "    </tr>\n",
              "    <tr>\n",
              "      <th>2</th>\n",
              "      <td>Sandy</td>\n",
              "      <td>Whole Foods Market</td>\n",
              "      <td>5100 Belt Line Rd, Ste 1012</td>\n",
              "      <td>Addison</td>\n",
              "      <td>TX</td>\n",
              "      <td>Southwest</td>\n",
              "      <td>2021-01-18</td>\n",
              "      <td>$3.50</td>\n",
              "      <td>1</td>\n",
              "      <td>1</td>\n",
              "      <td>1</td>\n",
              "      <td>Belt Line Addison TX</td>\n",
              "      <td>0.0</td>\n",
              "      <td>0.0</td>\n",
              "      <td>0.0</td>\n",
              "      <td>0.0</td>\n",
              "      <td>0.0</td>\n",
              "      <td>0.0</td>\n",
              "      <td>0.0</td>\n",
              "    </tr>\n",
              "    <tr>\n",
              "      <th>3</th>\n",
              "      <td>Sandy</td>\n",
              "      <td>Whole Foods Market</td>\n",
              "      <td>5100 Belt Line Rd, Ste 1012</td>\n",
              "      <td>Addison</td>\n",
              "      <td>TX</td>\n",
              "      <td>Southwest</td>\n",
              "      <td>2021-01-25</td>\n",
              "      <td>$3.50</td>\n",
              "      <td>1</td>\n",
              "      <td>1</td>\n",
              "      <td>0</td>\n",
              "      <td>Belt Line Addison TX</td>\n",
              "      <td>1.0</td>\n",
              "      <td>0.0</td>\n",
              "      <td>0.0</td>\n",
              "      <td>0.0</td>\n",
              "      <td>0.0</td>\n",
              "      <td>1.0</td>\n",
              "      <td>1.0</td>\n",
              "    </tr>\n",
              "    <tr>\n",
              "      <th>4</th>\n",
              "      <td>Sandy</td>\n",
              "      <td>Whole Foods Market</td>\n",
              "      <td>5100 Belt Line Rd, Ste 1012</td>\n",
              "      <td>Addison</td>\n",
              "      <td>TX</td>\n",
              "      <td>Southwest</td>\n",
              "      <td>2021-02-01</td>\n",
              "      <td>$3.50</td>\n",
              "      <td>1</td>\n",
              "      <td>1</td>\n",
              "      <td>1</td>\n",
              "      <td>Belt Line Addison TX</td>\n",
              "      <td>0.0</td>\n",
              "      <td>1.0</td>\n",
              "      <td>0.0</td>\n",
              "      <td>0.0</td>\n",
              "      <td>0.0</td>\n",
              "      <td>1.0</td>\n",
              "      <td>1.0</td>\n",
              "    </tr>\n",
              "  </tbody>\n",
              "</table>\n",
              "</div>"
            ],
            "text/plain": [
              "                  store_name                      address     city state  \\\n",
              "0  Sandy  Whole Foods Market  5100 Belt Line Rd, Ste 1012  Addison    TX   \n",
              "1  Sandy  Whole Foods Market  5100 Belt Line Rd, Ste 1012  Addison    TX   \n",
              "2  Sandy  Whole Foods Market  5100 Belt Line Rd, Ste 1012  Addison    TX   \n",
              "3  Sandy  Whole Foods Market  5100 Belt Line Rd, Ste 1012  Addison    TX   \n",
              "4  Sandy  Whole Foods Market  5100 Belt Line Rd, Ste 1012  Addison    TX   \n",
              "\n",
              "      Region       Date  Average Retail Price   Sales Rep  Endcap  Demo  \\\n",
              "0  Southwest 2021-01-04                 $3.50           1       0     0   \n",
              "1  Southwest 2021-01-11                 $3.50           1       1     0   \n",
              "2  Southwest 2021-01-18                 $3.50           1       1     1   \n",
              "3  Southwest 2021-01-25                 $3.50           1       1     0   \n",
              "4  Southwest 2021-02-01                 $3.50           1       1     1   \n",
              "\n",
              "          alter_address  Demo_lag_1  Demo_lag_2  Demo_lag_3  Demo_lag_4  \\\n",
              "0  Belt Line Addison TX         0.0         0.0         0.0         0.0   \n",
              "1  Belt Line Addison TX         0.0         0.0         0.0         0.0   \n",
              "2  Belt Line Addison TX         0.0         0.0         0.0         0.0   \n",
              "3  Belt Line Addison TX         1.0         0.0         0.0         0.0   \n",
              "4  Belt Line Addison TX         0.0         1.0         0.0         0.0   \n",
              "\n",
              "   Demo_lag_5  Demo_lag_sum  Demo_lag  \n",
              "0         0.0           0.0       0.0  \n",
              "1         0.0           0.0       0.0  \n",
              "2         0.0           0.0       0.0  \n",
              "3         0.0           1.0       1.0  \n",
              "4         0.0           1.0       1.0  "
            ]
          },
          "execution_count": 297,
          "metadata": {},
          "output_type": "execute_result"
        }
      ]
    },
    {
      "cell_type": "code",
      "metadata": {
        "id": "nko9Z1iziY4k"
      },
      "source": [
        "sandy = predict_data[predict_data[' '] == 'Sandy']\n",
        "tony = predict_data[predict_data[' '] == 'Tony']\n",
        "predict_tony = tony.drop([' ','store_name','address','city','state','Date','alter_address','Demo_lag_1','Demo_lag_2','Demo_lag_3','Demo_lag_4','Demo_lag_5','Demo_lag_sum'],axis=1)\n",
        "predict_sandy = sandy.drop([' ','store_name','address','city','state','Date','alter_address','Demo_lag_1','Demo_lag_2','Demo_lag_3','Demo_lag_4','Demo_lag_5','Demo_lag_sum'],axis=1)"
      ],
      "execution_count": null,
      "outputs": []
    },
    {
      "cell_type": "code",
      "metadata": {
        "id": "n-m1lDFniY4k",
        "outputId": "7609e4f7-adca-4b6c-da08-33f421ac3b40"
      },
      "source": [
        "predict_tony.head()"
      ],
      "execution_count": null,
      "outputs": [
        {
          "data": {
            "text/html": [
              "<div>\n",
              "<style scoped>\n",
              "    .dataframe tbody tr th:only-of-type {\n",
              "        vertical-align: middle;\n",
              "    }\n",
              "\n",
              "    .dataframe tbody tr th {\n",
              "        vertical-align: top;\n",
              "    }\n",
              "\n",
              "    .dataframe thead th {\n",
              "        text-align: right;\n",
              "    }\n",
              "</style>\n",
              "<table border=\"1\" class=\"dataframe\">\n",
              "  <thead>\n",
              "    <tr style=\"text-align: right;\">\n",
              "      <th></th>\n",
              "      <th>Region</th>\n",
              "      <th>Average Retail Price</th>\n",
              "      <th>Sales Rep</th>\n",
              "      <th>Endcap</th>\n",
              "      <th>Demo</th>\n",
              "      <th>Demo_lag</th>\n",
              "    </tr>\n",
              "  </thead>\n",
              "  <tbody>\n",
              "    <tr>\n",
              "      <th>2004</th>\n",
              "      <td>Rocky Mountains</td>\n",
              "      <td>$             3.25</td>\n",
              "      <td>1</td>\n",
              "      <td>0</td>\n",
              "      <td>0</td>\n",
              "      <td>0.0</td>\n",
              "    </tr>\n",
              "    <tr>\n",
              "      <th>2005</th>\n",
              "      <td>Rocky Mountains</td>\n",
              "      <td>$             3.00</td>\n",
              "      <td>1</td>\n",
              "      <td>0</td>\n",
              "      <td>0</td>\n",
              "      <td>0.0</td>\n",
              "    </tr>\n",
              "    <tr>\n",
              "      <th>2006</th>\n",
              "      <td>Rocky Mountains</td>\n",
              "      <td>$             3.50</td>\n",
              "      <td>1</td>\n",
              "      <td>1</td>\n",
              "      <td>1</td>\n",
              "      <td>0.0</td>\n",
              "    </tr>\n",
              "    <tr>\n",
              "      <th>2007</th>\n",
              "      <td>Rocky Mountains</td>\n",
              "      <td>$             3.50</td>\n",
              "      <td>1</td>\n",
              "      <td>1</td>\n",
              "      <td>0</td>\n",
              "      <td>1.0</td>\n",
              "    </tr>\n",
              "    <tr>\n",
              "      <th>2008</th>\n",
              "      <td>Rocky Mountains</td>\n",
              "      <td>$             3.50</td>\n",
              "      <td>1</td>\n",
              "      <td>0</td>\n",
              "      <td>1</td>\n",
              "      <td>1.0</td>\n",
              "    </tr>\n",
              "  </tbody>\n",
              "</table>\n",
              "</div>"
            ],
            "text/plain": [
              "               Region  Average Retail Price   Sales Rep  Endcap  Demo  \\\n",
              "2004  Rocky Mountains    $             3.25           1       0     0   \n",
              "2005  Rocky Mountains    $             3.00           1       0     0   \n",
              "2006  Rocky Mountains    $             3.50           1       1     1   \n",
              "2007  Rocky Mountains    $             3.50           1       1     0   \n",
              "2008  Rocky Mountains    $             3.50           1       0     1   \n",
              "\n",
              "      Demo_lag  \n",
              "2004       0.0  \n",
              "2005       0.0  \n",
              "2006       0.0  \n",
              "2007       1.0  \n",
              "2008       1.0  "
            ]
          },
          "execution_count": 299,
          "metadata": {},
          "output_type": "execute_result"
        }
      ]
    },
    {
      "cell_type": "code",
      "metadata": {
        "id": "m2OGUJhoiY4l"
      },
      "source": [
        "predict_tony[' Average Retail Price '] = predict_tony[' Average Retail Price '].apply(lambda x: x.replace('$','').strip()).astype(np.float64)\n",
        "predict_sandy[' Average Retail Price '] = predict_sandy[' Average Retail Price '].apply(lambda x: x.replace('$','').strip()).astype(np.float64)"
      ],
      "execution_count": null,
      "outputs": []
    },
    {
      "cell_type": "code",
      "metadata": {
        "id": "N5eyLv9ViY4l",
        "outputId": "9778a47f-cea6-4b24-f3cd-17115ac71728"
      },
      "source": [
        "predict_tony.head()"
      ],
      "execution_count": null,
      "outputs": [
        {
          "data": {
            "text/html": [
              "<div>\n",
              "<style scoped>\n",
              "    .dataframe tbody tr th:only-of-type {\n",
              "        vertical-align: middle;\n",
              "    }\n",
              "\n",
              "    .dataframe tbody tr th {\n",
              "        vertical-align: top;\n",
              "    }\n",
              "\n",
              "    .dataframe thead th {\n",
              "        text-align: right;\n",
              "    }\n",
              "</style>\n",
              "<table border=\"1\" class=\"dataframe\">\n",
              "  <thead>\n",
              "    <tr style=\"text-align: right;\">\n",
              "      <th></th>\n",
              "      <th>Region</th>\n",
              "      <th>Average Retail Price</th>\n",
              "      <th>Sales Rep</th>\n",
              "      <th>Endcap</th>\n",
              "      <th>Demo</th>\n",
              "      <th>Demo_lag</th>\n",
              "    </tr>\n",
              "  </thead>\n",
              "  <tbody>\n",
              "    <tr>\n",
              "      <th>2004</th>\n",
              "      <td>Rocky Mountains</td>\n",
              "      <td>3.25</td>\n",
              "      <td>1</td>\n",
              "      <td>0</td>\n",
              "      <td>0</td>\n",
              "      <td>0.0</td>\n",
              "    </tr>\n",
              "    <tr>\n",
              "      <th>2005</th>\n",
              "      <td>Rocky Mountains</td>\n",
              "      <td>3.00</td>\n",
              "      <td>1</td>\n",
              "      <td>0</td>\n",
              "      <td>0</td>\n",
              "      <td>0.0</td>\n",
              "    </tr>\n",
              "    <tr>\n",
              "      <th>2006</th>\n",
              "      <td>Rocky Mountains</td>\n",
              "      <td>3.50</td>\n",
              "      <td>1</td>\n",
              "      <td>1</td>\n",
              "      <td>1</td>\n",
              "      <td>0.0</td>\n",
              "    </tr>\n",
              "    <tr>\n",
              "      <th>2007</th>\n",
              "      <td>Rocky Mountains</td>\n",
              "      <td>3.50</td>\n",
              "      <td>1</td>\n",
              "      <td>1</td>\n",
              "      <td>0</td>\n",
              "      <td>1.0</td>\n",
              "    </tr>\n",
              "    <tr>\n",
              "      <th>2008</th>\n",
              "      <td>Rocky Mountains</td>\n",
              "      <td>3.50</td>\n",
              "      <td>1</td>\n",
              "      <td>0</td>\n",
              "      <td>1</td>\n",
              "      <td>1.0</td>\n",
              "    </tr>\n",
              "  </tbody>\n",
              "</table>\n",
              "</div>"
            ],
            "text/plain": [
              "               Region   Average Retail Price   Sales Rep  Endcap  Demo  \\\n",
              "2004  Rocky Mountains                    3.25          1       0     0   \n",
              "2005  Rocky Mountains                    3.00          1       0     0   \n",
              "2006  Rocky Mountains                    3.50          1       1     1   \n",
              "2007  Rocky Mountains                    3.50          1       1     0   \n",
              "2008  Rocky Mountains                    3.50          1       0     1   \n",
              "\n",
              "      Demo_lag  \n",
              "2004       0.0  \n",
              "2005       0.0  \n",
              "2006       0.0  \n",
              "2007       1.0  \n",
              "2008       1.0  "
            ]
          },
          "execution_count": 301,
          "metadata": {},
          "output_type": "execute_result"
        }
      ]
    },
    {
      "cell_type": "code",
      "metadata": {
        "id": "hd_DHlm7iY4l"
      },
      "source": [
        "onehot_tony= pd.get_dummies(predict_tony['Region'])\n",
        "onehot_sandy= pd.get_dummies(predict_sandy['Region'])\n",
        "predict_encoded_sandy = pd.concat([predict_sandy, onehot_sandy], axis=1).drop('Region',axis=1)\n",
        "predict_encoded_tony = pd.concat([predict_tony, onehot_tony], axis=1).drop('Region',axis=1)"
      ],
      "execution_count": null,
      "outputs": []
    },
    {
      "cell_type": "code",
      "metadata": {
        "id": "Kpa4md2SiY4l",
        "outputId": "b07df524-2f3f-46ad-87c8-7080d6233f80"
      },
      "source": [
        "predict_encoded_tony.head()"
      ],
      "execution_count": null,
      "outputs": [
        {
          "data": {
            "text/html": [
              "<div>\n",
              "<style scoped>\n",
              "    .dataframe tbody tr th:only-of-type {\n",
              "        vertical-align: middle;\n",
              "    }\n",
              "\n",
              "    .dataframe tbody tr th {\n",
              "        vertical-align: top;\n",
              "    }\n",
              "\n",
              "    .dataframe thead th {\n",
              "        text-align: right;\n",
              "    }\n",
              "</style>\n",
              "<table border=\"1\" class=\"dataframe\">\n",
              "  <thead>\n",
              "    <tr style=\"text-align: right;\">\n",
              "      <th></th>\n",
              "      <th>Average Retail Price</th>\n",
              "      <th>Sales Rep</th>\n",
              "      <th>Endcap</th>\n",
              "      <th>Demo</th>\n",
              "      <th>Demo_lag</th>\n",
              "      <th>Florida</th>\n",
              "      <th>Mid Atlantic</th>\n",
              "      <th>Midwest</th>\n",
              "      <th>North Atlantic</th>\n",
              "      <th>Northeast</th>\n",
              "      <th>Northern California</th>\n",
              "      <th>Pacific Northwest</th>\n",
              "      <th>Rocky Mountains</th>\n",
              "      <th>South</th>\n",
              "      <th>South Pacific</th>\n",
              "      <th>Southwest</th>\n",
              "    </tr>\n",
              "  </thead>\n",
              "  <tbody>\n",
              "    <tr>\n",
              "      <th>2004</th>\n",
              "      <td>3.25</td>\n",
              "      <td>1</td>\n",
              "      <td>0</td>\n",
              "      <td>0</td>\n",
              "      <td>0.0</td>\n",
              "      <td>0</td>\n",
              "      <td>0</td>\n",
              "      <td>0</td>\n",
              "      <td>0</td>\n",
              "      <td>0</td>\n",
              "      <td>0</td>\n",
              "      <td>0</td>\n",
              "      <td>1</td>\n",
              "      <td>0</td>\n",
              "      <td>0</td>\n",
              "      <td>0</td>\n",
              "    </tr>\n",
              "    <tr>\n",
              "      <th>2005</th>\n",
              "      <td>3.00</td>\n",
              "      <td>1</td>\n",
              "      <td>0</td>\n",
              "      <td>0</td>\n",
              "      <td>0.0</td>\n",
              "      <td>0</td>\n",
              "      <td>0</td>\n",
              "      <td>0</td>\n",
              "      <td>0</td>\n",
              "      <td>0</td>\n",
              "      <td>0</td>\n",
              "      <td>0</td>\n",
              "      <td>1</td>\n",
              "      <td>0</td>\n",
              "      <td>0</td>\n",
              "      <td>0</td>\n",
              "    </tr>\n",
              "    <tr>\n",
              "      <th>2006</th>\n",
              "      <td>3.50</td>\n",
              "      <td>1</td>\n",
              "      <td>1</td>\n",
              "      <td>1</td>\n",
              "      <td>0.0</td>\n",
              "      <td>0</td>\n",
              "      <td>0</td>\n",
              "      <td>0</td>\n",
              "      <td>0</td>\n",
              "      <td>0</td>\n",
              "      <td>0</td>\n",
              "      <td>0</td>\n",
              "      <td>1</td>\n",
              "      <td>0</td>\n",
              "      <td>0</td>\n",
              "      <td>0</td>\n",
              "    </tr>\n",
              "    <tr>\n",
              "      <th>2007</th>\n",
              "      <td>3.50</td>\n",
              "      <td>1</td>\n",
              "      <td>1</td>\n",
              "      <td>0</td>\n",
              "      <td>1.0</td>\n",
              "      <td>0</td>\n",
              "      <td>0</td>\n",
              "      <td>0</td>\n",
              "      <td>0</td>\n",
              "      <td>0</td>\n",
              "      <td>0</td>\n",
              "      <td>0</td>\n",
              "      <td>1</td>\n",
              "      <td>0</td>\n",
              "      <td>0</td>\n",
              "      <td>0</td>\n",
              "    </tr>\n",
              "    <tr>\n",
              "      <th>2008</th>\n",
              "      <td>3.50</td>\n",
              "      <td>1</td>\n",
              "      <td>0</td>\n",
              "      <td>1</td>\n",
              "      <td>1.0</td>\n",
              "      <td>0</td>\n",
              "      <td>0</td>\n",
              "      <td>0</td>\n",
              "      <td>0</td>\n",
              "      <td>0</td>\n",
              "      <td>0</td>\n",
              "      <td>0</td>\n",
              "      <td>1</td>\n",
              "      <td>0</td>\n",
              "      <td>0</td>\n",
              "      <td>0</td>\n",
              "    </tr>\n",
              "  </tbody>\n",
              "</table>\n",
              "</div>"
            ],
            "text/plain": [
              "       Average Retail Price   Sales Rep  Endcap  Demo  Demo_lag  Florida  \\\n",
              "2004                    3.25          1       0     0       0.0        0   \n",
              "2005                    3.00          1       0     0       0.0        0   \n",
              "2006                    3.50          1       1     1       0.0        0   \n",
              "2007                    3.50          1       1     0       1.0        0   \n",
              "2008                    3.50          1       0     1       1.0        0   \n",
              "\n",
              "      Mid Atlantic  Midwest  North Atlantic  Northeast  Northern California  \\\n",
              "2004             0        0               0          0                    0   \n",
              "2005             0        0               0          0                    0   \n",
              "2006             0        0               0          0                    0   \n",
              "2007             0        0               0          0                    0   \n",
              "2008             0        0               0          0                    0   \n",
              "\n",
              "      Pacific Northwest  Rocky Mountains  South  South Pacific  Southwest  \n",
              "2004                  0                1      0              0          0  \n",
              "2005                  0                1      0              0          0  \n",
              "2006                  0                1      0              0          0  \n",
              "2007                  0                1      0              0          0  \n",
              "2008                  0                1      0              0          0  "
            ]
          },
          "execution_count": 303,
          "metadata": {},
          "output_type": "execute_result"
        }
      ]
    },
    {
      "cell_type": "code",
      "metadata": {
        "id": "WCyVOkAwiY4l"
      },
      "source": [
        "predict_tony = predict_encoded_tony.values\n",
        "predict_sandy = predict_encoded_sandy.values"
      ],
      "execution_count": null,
      "outputs": []
    },
    {
      "cell_type": "code",
      "metadata": {
        "id": "choYNPeeiY4m"
      },
      "source": [
        "sandy_prediction = regr.predict(predict_sandy).round()\n",
        "tony_prediction = regr.predict(predict_tony).round()"
      ],
      "execution_count": null,
      "outputs": []
    },
    {
      "cell_type": "code",
      "metadata": {
        "id": "r4aLvn36iY4m"
      },
      "source": [
        "analyse_tony = tony[[' Average Retail Price ','address','Demo','Sales Rep','Endcap']]\n",
        "analyse_sandy = sandy[[' Average Retail Price ','address','Demo','Sales Rep','Endcap']]\n",
        "analyse_tony[' Average Retail Price '] = analyse_tony[' Average Retail Price '].apply(lambda x: x.replace('$','').strip()).astype(np.float64)\n",
        "analyse_sandy[' Average Retail Price '] = analyse_sandy[' Average Retail Price '].apply(lambda x: x.replace('$','').strip()).astype(np.float64)\n",
        "analyse_tony['pred_unit_sold'] = tony_prediction\n",
        "analyse_sandy['pred_unit_sold'] = sandy_prediction"
      ],
      "execution_count": null,
      "outputs": []
    },
    {
      "cell_type": "code",
      "metadata": {
        "id": "F5IFADJqiY4m"
      },
      "source": [
        "def cal_revenue(x):\n",
        "    revenue = x[' Average Retail Price ']*x['pred_unit_sold']\n",
        "    return revenue\n",
        "def cal_cost(x):\n",
        "    cost = 0\n",
        "    if x['Sales Rep'] == 1:\n",
        "        cost+=160\n",
        "    if x['Endcap'] == 1:\n",
        "        cost+=200\n",
        "    if x['Demo'] == 1:\n",
        "        cost+=150\n",
        "    return cost\n",
        "def cal_profit(x):\n",
        "    revenue = cal_revenue(x)\n",
        "    cost = cal_cost(x)\n",
        "    profit = revenue-cost\n",
        "    return  profit"
      ],
      "execution_count": null,
      "outputs": []
    },
    {
      "cell_type": "code",
      "metadata": {
        "id": "upZSsPm6iY4m"
      },
      "source": [
        "analyse_tony['revenue'] = analyse_tony.apply(cal_revenue,axis =1)\n",
        "analyse_tony['cost'] = analyse_tony.apply(cal_cost,axis =1)\n",
        "analyse_tony['profit'] = analyse_tony.apply(cal_profit,axis =1)\n",
        "analyse_sandy['revenue'] = analyse_sandy.apply(cal_revenue,axis =1)\n",
        "analyse_sandy['cost'] = analyse_sandy.apply(cal_cost,axis =1)\n",
        "analyse_sandy['profit'] = analyse_sandy.apply(cal_profit,axis =1)"
      ],
      "execution_count": null,
      "outputs": []
    },
    {
      "cell_type": "code",
      "metadata": {
        "scrolled": false,
        "id": "eqVFhHAWiY4n",
        "outputId": "88ded7e8-229f-4ef5-dc01-65cb147d91cf"
      },
      "source": [
        "(analyse_tony.groupby('address').sum()/12)"
      ],
      "execution_count": null,
      "outputs": [
        {
          "data": {
            "text/html": [
              "<div>\n",
              "<style scoped>\n",
              "    .dataframe tbody tr th:only-of-type {\n",
              "        vertical-align: middle;\n",
              "    }\n",
              "\n",
              "    .dataframe tbody tr th {\n",
              "        vertical-align: top;\n",
              "    }\n",
              "\n",
              "    .dataframe thead th {\n",
              "        text-align: right;\n",
              "    }\n",
              "</style>\n",
              "<table border=\"1\" class=\"dataframe\">\n",
              "  <thead>\n",
              "    <tr style=\"text-align: right;\">\n",
              "      <th></th>\n",
              "      <th>Average Retail Price</th>\n",
              "      <th>Demo</th>\n",
              "      <th>Sales Rep</th>\n",
              "      <th>Endcap</th>\n",
              "      <th>pred_unit_sold</th>\n",
              "      <th>revenue</th>\n",
              "      <th>cost</th>\n",
              "      <th>profit</th>\n",
              "    </tr>\n",
              "    <tr>\n",
              "      <th>address</th>\n",
              "      <th></th>\n",
              "      <th></th>\n",
              "      <th></th>\n",
              "      <th></th>\n",
              "      <th></th>\n",
              "      <th></th>\n",
              "      <th></th>\n",
              "      <th></th>\n",
              "    </tr>\n",
              "  </thead>\n",
              "  <tbody>\n",
              "    <tr>\n",
              "      <th>100 S Green Valley Pkwy</th>\n",
              "      <td>3.354167</td>\n",
              "      <td>0.250000</td>\n",
              "      <td>1.0</td>\n",
              "      <td>0.500000</td>\n",
              "      <td>555.250000</td>\n",
              "      <td>1895.541667</td>\n",
              "      <td>297.500000</td>\n",
              "      <td>1598.041667</td>\n",
              "    </tr>\n",
              "    <tr>\n",
              "      <th>100 Sunset Dr</th>\n",
              "      <td>3.479167</td>\n",
              "      <td>0.416667</td>\n",
              "      <td>1.0</td>\n",
              "      <td>0.333333</td>\n",
              "      <td>508.500000</td>\n",
              "      <td>1772.375000</td>\n",
              "      <td>289.166667</td>\n",
              "      <td>1483.208333</td>\n",
              "    </tr>\n",
              "    <tr>\n",
              "      <th>100 W 125th St</th>\n",
              "      <td>3.312500</td>\n",
              "      <td>0.250000</td>\n",
              "      <td>1.0</td>\n",
              "      <td>0.333333</td>\n",
              "      <td>469.083333</td>\n",
              "      <td>1585.208333</td>\n",
              "      <td>264.166667</td>\n",
              "      <td>1321.041667</td>\n",
              "    </tr>\n",
              "    <tr>\n",
              "      <th>1001 Broadway</th>\n",
              "      <td>3.416667</td>\n",
              "      <td>0.250000</td>\n",
              "      <td>1.0</td>\n",
              "      <td>0.500000</td>\n",
              "      <td>580.333333</td>\n",
              "      <td>2001.666667</td>\n",
              "      <td>297.500000</td>\n",
              "      <td>1704.166667</td>\n",
              "    </tr>\n",
              "    <tr>\n",
              "      <th>1001 Plymouth Rd</th>\n",
              "      <td>3.395833</td>\n",
              "      <td>0.250000</td>\n",
              "      <td>1.0</td>\n",
              "      <td>0.500000</td>\n",
              "      <td>550.666667</td>\n",
              "      <td>1889.770833</td>\n",
              "      <td>297.500000</td>\n",
              "      <td>1592.270833</td>\n",
              "    </tr>\n",
              "    <tr>\n",
              "      <th>...</th>\n",
              "      <td>...</td>\n",
              "      <td>...</td>\n",
              "      <td>...</td>\n",
              "      <td>...</td>\n",
              "      <td>...</td>\n",
              "      <td>...</td>\n",
              "      <td>...</td>\n",
              "      <td>...</td>\n",
              "    </tr>\n",
              "    <tr>\n",
              "      <th>95 East Houston St</th>\n",
              "      <td>3.354167</td>\n",
              "      <td>0.333333</td>\n",
              "      <td>0.0</td>\n",
              "      <td>0.000000</td>\n",
              "      <td>271.750000</td>\n",
              "      <td>917.729167</td>\n",
              "      <td>50.000000</td>\n",
              "      <td>867.729167</td>\n",
              "    </tr>\n",
              "    <tr>\n",
              "      <th>951 Bank St</th>\n",
              "      <td>3.312500</td>\n",
              "      <td>0.083333</td>\n",
              "      <td>0.0</td>\n",
              "      <td>0.333333</td>\n",
              "      <td>249.916667</td>\n",
              "      <td>831.354167</td>\n",
              "      <td>79.166667</td>\n",
              "      <td>752.187500</td>\n",
              "    </tr>\n",
              "    <tr>\n",
              "      <th>967 Florida Avenue NW</th>\n",
              "      <td>3.375000</td>\n",
              "      <td>0.166667</td>\n",
              "      <td>0.0</td>\n",
              "      <td>0.416667</td>\n",
              "      <td>261.250000</td>\n",
              "      <td>880.750000</td>\n",
              "      <td>108.333333</td>\n",
              "      <td>772.416667</td>\n",
              "    </tr>\n",
              "    <tr>\n",
              "      <th>990 W Eisenhower Pkwy</th>\n",
              "      <td>3.312500</td>\n",
              "      <td>0.250000</td>\n",
              "      <td>0.0</td>\n",
              "      <td>0.250000</td>\n",
              "      <td>276.000000</td>\n",
              "      <td>914.479167</td>\n",
              "      <td>87.500000</td>\n",
              "      <td>826.979167</td>\n",
              "    </tr>\n",
              "    <tr>\n",
              "      <th>9940 NE Cornell Rd</th>\n",
              "      <td>3.395833</td>\n",
              "      <td>0.416667</td>\n",
              "      <td>0.0</td>\n",
              "      <td>0.500000</td>\n",
              "      <td>259.666667</td>\n",
              "      <td>883.895833</td>\n",
              "      <td>162.500000</td>\n",
              "      <td>721.395833</td>\n",
              "    </tr>\n",
              "  </tbody>\n",
              "</table>\n",
              "<p>167 rows × 8 columns</p>\n",
              "</div>"
            ],
            "text/plain": [
              "                          Average Retail Price       Demo  Sales Rep  \\\n",
              "address                                                                \n",
              "100 S Green Valley Pkwy                3.354167  0.250000        1.0   \n",
              "100 Sunset Dr                          3.479167  0.416667        1.0   \n",
              "100 W 125th St                         3.312500  0.250000        1.0   \n",
              "1001 Broadway                          3.416667  0.250000        1.0   \n",
              "1001 Plymouth Rd                       3.395833  0.250000        1.0   \n",
              "...                                         ...       ...        ...   \n",
              "95 East Houston St                     3.354167  0.333333        0.0   \n",
              "951 Bank St                            3.312500  0.083333        0.0   \n",
              "967 Florida Avenue NW                  3.375000  0.166667        0.0   \n",
              "990 W Eisenhower Pkwy                  3.312500  0.250000        0.0   \n",
              "9940 NE Cornell Rd                     3.395833  0.416667        0.0   \n",
              "\n",
              "                           Endcap  pred_unit_sold      revenue        cost  \\\n",
              "address                                                                      \n",
              "100 S Green Valley Pkwy  0.500000      555.250000  1895.541667  297.500000   \n",
              "100 Sunset Dr            0.333333      508.500000  1772.375000  289.166667   \n",
              "100 W 125th St           0.333333      469.083333  1585.208333  264.166667   \n",
              "1001 Broadway            0.500000      580.333333  2001.666667  297.500000   \n",
              "1001 Plymouth Rd         0.500000      550.666667  1889.770833  297.500000   \n",
              "...                           ...             ...          ...         ...   \n",
              "95 East Houston St       0.000000      271.750000   917.729167   50.000000   \n",
              "951 Bank St              0.333333      249.916667   831.354167   79.166667   \n",
              "967 Florida Avenue NW    0.416667      261.250000   880.750000  108.333333   \n",
              "990 W Eisenhower Pkwy    0.250000      276.000000   914.479167   87.500000   \n",
              "9940 NE Cornell Rd       0.500000      259.666667   883.895833  162.500000   \n",
              "\n",
              "                              profit  \n",
              "address                               \n",
              "100 S Green Valley Pkwy  1598.041667  \n",
              "100 Sunset Dr            1483.208333  \n",
              "100 W 125th St           1321.041667  \n",
              "1001 Broadway            1704.166667  \n",
              "1001 Plymouth Rd         1592.270833  \n",
              "...                              ...  \n",
              "95 East Houston St        867.729167  \n",
              "951 Bank St               752.187500  \n",
              "967 Florida Avenue NW     772.416667  \n",
              "990 W Eisenhower Pkwy     826.979167  \n",
              "9940 NE Cornell Rd        721.395833  \n",
              "\n",
              "[167 rows x 8 columns]"
            ]
          },
          "execution_count": 322,
          "metadata": {},
          "output_type": "execute_result"
        }
      ]
    },
    {
      "cell_type": "code",
      "metadata": {
        "id": "4t2M4KmviY4n",
        "outputId": "b9653ce1-a788-42ad-9bb8-6af203863542"
      },
      "source": [
        "(analyse_sandy.groupby('address').sum()/12)"
      ],
      "execution_count": null,
      "outputs": [
        {
          "data": {
            "text/html": [
              "<div>\n",
              "<style scoped>\n",
              "    .dataframe tbody tr th:only-of-type {\n",
              "        vertical-align: middle;\n",
              "    }\n",
              "\n",
              "    .dataframe tbody tr th {\n",
              "        vertical-align: top;\n",
              "    }\n",
              "\n",
              "    .dataframe thead th {\n",
              "        text-align: right;\n",
              "    }\n",
              "</style>\n",
              "<table border=\"1\" class=\"dataframe\">\n",
              "  <thead>\n",
              "    <tr style=\"text-align: right;\">\n",
              "      <th></th>\n",
              "      <th>Average Retail Price</th>\n",
              "      <th>Demo</th>\n",
              "      <th>Sales Rep</th>\n",
              "      <th>Endcap</th>\n",
              "      <th>pred_unit_sold</th>\n",
              "      <th>revenue</th>\n",
              "      <th>cost</th>\n",
              "      <th>profit</th>\n",
              "    </tr>\n",
              "    <tr>\n",
              "      <th>address</th>\n",
              "      <th></th>\n",
              "      <th></th>\n",
              "      <th></th>\n",
              "      <th></th>\n",
              "      <th></th>\n",
              "      <th></th>\n",
              "      <th></th>\n",
              "      <th></th>\n",
              "    </tr>\n",
              "  </thead>\n",
              "  <tbody>\n",
              "    <tr>\n",
              "      <th>1 N Halsted St</th>\n",
              "      <td>3.666667</td>\n",
              "      <td>0.416667</td>\n",
              "      <td>0.0</td>\n",
              "      <td>0.333333</td>\n",
              "      <td>273.333333</td>\n",
              "      <td>999.375000</td>\n",
              "      <td>129.166667</td>\n",
              "      <td>870.208333</td>\n",
              "    </tr>\n",
              "    <tr>\n",
              "      <th>1001 Broadway</th>\n",
              "      <td>3.750000</td>\n",
              "      <td>0.333333</td>\n",
              "      <td>1.0</td>\n",
              "      <td>0.833333</td>\n",
              "      <td>712.583333</td>\n",
              "      <td>2668.791667</td>\n",
              "      <td>376.666667</td>\n",
              "      <td>2292.125000</td>\n",
              "    </tr>\n",
              "    <tr>\n",
              "      <th>10020 Regency Cir</th>\n",
              "      <td>3.666667</td>\n",
              "      <td>0.333333</td>\n",
              "      <td>1.0</td>\n",
              "      <td>0.333333</td>\n",
              "      <td>486.833333</td>\n",
              "      <td>1796.104167</td>\n",
              "      <td>276.666667</td>\n",
              "      <td>1519.437500</td>\n",
              "    </tr>\n",
              "    <tr>\n",
              "      <th>1025 Gilman St</th>\n",
              "      <td>3.604167</td>\n",
              "      <td>0.166667</td>\n",
              "      <td>1.0</td>\n",
              "      <td>0.750000</td>\n",
              "      <td>631.416667</td>\n",
              "      <td>2277.291667</td>\n",
              "      <td>335.000000</td>\n",
              "      <td>1942.291667</td>\n",
              "    </tr>\n",
              "    <tr>\n",
              "      <th>1026 NE 64th St</th>\n",
              "      <td>3.583333</td>\n",
              "      <td>0.250000</td>\n",
              "      <td>0.0</td>\n",
              "      <td>0.750000</td>\n",
              "      <td>254.666667</td>\n",
              "      <td>912.979167</td>\n",
              "      <td>187.500000</td>\n",
              "      <td>725.479167</td>\n",
              "    </tr>\n",
              "    <tr>\n",
              "      <th>...</th>\n",
              "      <td>...</td>\n",
              "      <td>...</td>\n",
              "      <td>...</td>\n",
              "      <td>...</td>\n",
              "      <td>...</td>\n",
              "      <td>...</td>\n",
              "      <td>...</td>\n",
              "      <td>...</td>\n",
              "    </tr>\n",
              "    <tr>\n",
              "      <th>929 South St</th>\n",
              "      <td>3.625000</td>\n",
              "      <td>0.250000</td>\n",
              "      <td>0.0</td>\n",
              "      <td>0.500000</td>\n",
              "      <td>262.000000</td>\n",
              "      <td>948.916667</td>\n",
              "      <td>137.500000</td>\n",
              "      <td>811.416667</td>\n",
              "    </tr>\n",
              "    <tr>\n",
              "      <th>9366 S Colorado Blvd</th>\n",
              "      <td>3.583333</td>\n",
              "      <td>0.250000</td>\n",
              "      <td>1.0</td>\n",
              "      <td>0.500000</td>\n",
              "      <td>552.916667</td>\n",
              "      <td>1981.354167</td>\n",
              "      <td>297.500000</td>\n",
              "      <td>1683.854167</td>\n",
              "    </tr>\n",
              "    <tr>\n",
              "      <th>94 Derby St</th>\n",
              "      <td>3.625000</td>\n",
              "      <td>0.416667</td>\n",
              "      <td>1.0</td>\n",
              "      <td>0.750000</td>\n",
              "      <td>671.166667</td>\n",
              "      <td>2425.770833</td>\n",
              "      <td>372.500000</td>\n",
              "      <td>2053.270833</td>\n",
              "    </tr>\n",
              "    <tr>\n",
              "      <th>940 Rt 73 N</th>\n",
              "      <td>3.520833</td>\n",
              "      <td>0.416667</td>\n",
              "      <td>0.0</td>\n",
              "      <td>0.416667</td>\n",
              "      <td>271.333333</td>\n",
              "      <td>955.687500</td>\n",
              "      <td>145.833333</td>\n",
              "      <td>809.854167</td>\n",
              "    </tr>\n",
              "    <tr>\n",
              "      <th>9940 NE Cornell Rd</th>\n",
              "      <td>3.583333</td>\n",
              "      <td>0.416667</td>\n",
              "      <td>1.0</td>\n",
              "      <td>0.416667</td>\n",
              "      <td>543.333333</td>\n",
              "      <td>1933.854167</td>\n",
              "      <td>305.833333</td>\n",
              "      <td>1628.020833</td>\n",
              "    </tr>\n",
              "  </tbody>\n",
              "</table>\n",
              "<p>199 rows × 8 columns</p>\n",
              "</div>"
            ],
            "text/plain": [
              "                       Average Retail Price       Demo  Sales Rep    Endcap  \\\n",
              "address                                                                       \n",
              "1 N Halsted St                      3.666667  0.416667        0.0  0.333333   \n",
              "1001 Broadway                       3.750000  0.333333        1.0  0.833333   \n",
              "10020 Regency Cir                   3.666667  0.333333        1.0  0.333333   \n",
              "1025 Gilman St                      3.604167  0.166667        1.0  0.750000   \n",
              "1026 NE 64th St                     3.583333  0.250000        0.0  0.750000   \n",
              "...                                      ...       ...        ...       ...   \n",
              "929 South St                        3.625000  0.250000        0.0  0.500000   \n",
              "9366 S Colorado Blvd                3.583333  0.250000        1.0  0.500000   \n",
              "94 Derby St                         3.625000  0.416667        1.0  0.750000   \n",
              "940 Rt 73 N                         3.520833  0.416667        0.0  0.416667   \n",
              "9940 NE Cornell Rd                  3.583333  0.416667        1.0  0.416667   \n",
              "\n",
              "                      pred_unit_sold      revenue        cost       profit  \n",
              "address                                                                     \n",
              "1 N Halsted St            273.333333   999.375000  129.166667   870.208333  \n",
              "1001 Broadway             712.583333  2668.791667  376.666667  2292.125000  \n",
              "10020 Regency Cir         486.833333  1796.104167  276.666667  1519.437500  \n",
              "1025 Gilman St            631.416667  2277.291667  335.000000  1942.291667  \n",
              "1026 NE 64th St           254.666667   912.979167  187.500000   725.479167  \n",
              "...                              ...          ...         ...          ...  \n",
              "929 South St              262.000000   948.916667  137.500000   811.416667  \n",
              "9366 S Colorado Blvd      552.916667  1981.354167  297.500000  1683.854167  \n",
              "94 Derby St               671.166667  2425.770833  372.500000  2053.270833  \n",
              "940 Rt 73 N               271.333333   955.687500  145.833333   809.854167  \n",
              "9940 NE Cornell Rd        543.333333  1933.854167  305.833333  1628.020833  \n",
              "\n",
              "[199 rows x 8 columns]"
            ]
          },
          "execution_count": 323,
          "metadata": {},
          "output_type": "execute_result"
        }
      ]
    }
  ]
}
